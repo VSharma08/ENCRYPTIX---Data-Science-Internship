{
  "cells": [
    {
      "cell_type": "code",
      "execution_count": 493,
      "metadata": {
        "id": "zUCLGDDaNvR9"
      },
      "outputs": [],
      "source": [
        "# Importing necessary libraries\n",
        "import pandas as pd\n",
        "import numpy as np\n",
        "import matplotlib.pyplot as plt\n",
        "import seaborn as sns\n",
        "from sklearn.impute import SimpleImputer\n",
        "from sklearn.model_selection import train_test_split, GridSearchCV\n",
        "from sklearn.preprocessing import OneHotEncoder, StandardScaler\n",
        "from sklearn.compose import ColumnTransformer\n",
        "from sklearn.linear_model import LinearRegression\n",
        "from sklearn.ensemble import RandomForestRegressor\n",
        "from sklearn.metrics import mean_squared_error, mean_absolute_error, r2_score"
      ]
    },
    {
      "cell_type": "code",
      "execution_count": 494,
      "metadata": {
        "id": "PpEKGunXZJvE"
      },
      "outputs": [],
      "source": [
        "# Loading dataset\n",
        "df = pd.read_csv('/content/drive/MyDrive/Encryptix/Movies/IMDb Movies India.csv', encoding= 'latin1')"
      ]
    },
    {
      "cell_type": "code",
      "execution_count": 495,
      "metadata": {
        "colab": {
          "base_uri": "https://localhost:8080/"
        },
        "id": "2CULBjLTP-Fw",
        "outputId": "8fb73531-3d9f-4232-cfff-541782f28f9f"
      },
      "outputs": [
        {
          "output_type": "stream",
          "name": "stdout",
          "text": [
            "First 5 rows of the dataset:\n",
            "                                 Name    Year Duration            Genre  \\\n",
            "0                                         NaN      NaN            Drama   \n",
            "1  #Gadhvi (He thought he was Gandhi)  (2019)  109 min            Drama   \n",
            "2                         #Homecoming  (2021)   90 min   Drama, Musical   \n",
            "3                             #Yaaram  (2019)  110 min  Comedy, Romance   \n",
            "4                   ...And Once Again  (2010)  105 min            Drama   \n",
            "\n",
            "   Rating Votes            Director       Actor 1             Actor 2  \\\n",
            "0     NaN   NaN       J.S. Randhawa      Manmauji              Birbal   \n",
            "1     7.0     8       Gaurav Bakshi  Rasika Dugal      Vivek Ghamande   \n",
            "2     NaN   NaN  Soumyajit Majumdar  Sayani Gupta   Plabita Borthakur   \n",
            "3     4.4    35          Ovais Khan       Prateik          Ishita Raj   \n",
            "4     NaN   NaN        Amol Palekar  Rajat Kapoor  Rituparna Sengupta   \n",
            "\n",
            "           Actor 3  \n",
            "0  Rajendra Bhatia  \n",
            "1    Arvind Jangid  \n",
            "2       Roy Angana  \n",
            "3  Siddhant Kapoor  \n",
            "4      Antara Mali  \n",
            "\n",
            "Dataset Info:\n",
            "<class 'pandas.core.frame.DataFrame'>\n",
            "RangeIndex: 15509 entries, 0 to 15508\n",
            "Data columns (total 10 columns):\n",
            " #   Column    Non-Null Count  Dtype  \n",
            "---  ------    --------------  -----  \n",
            " 0   Name      15509 non-null  object \n",
            " 1   Year      14981 non-null  object \n",
            " 2   Duration  7240 non-null   object \n",
            " 3   Genre     13632 non-null  object \n",
            " 4   Rating    7919 non-null   float64\n",
            " 5   Votes     7920 non-null   object \n",
            " 6   Director  14984 non-null  object \n",
            " 7   Actor 1   13892 non-null  object \n",
            " 8   Actor 2   13125 non-null  object \n",
            " 9   Actor 3   12365 non-null  object \n",
            "dtypes: float64(1), object(9)\n",
            "memory usage: 1.2+ MB\n",
            "None\n"
          ]
        }
      ],
      "source": [
        "# Exploring the dataset\n",
        "print(\"First 5 rows of the dataset:\")\n",
        "print(df.head())\n",
        "print(\"\\nDataset Info:\")\n",
        "print(df.info())"
      ]
    },
    {
      "cell_type": "code",
      "execution_count": 496,
      "metadata": {
        "colab": {
          "base_uri": "https://localhost:8080/"
        },
        "id": "2b-iVagHW6JO",
        "outputId": "9979a073-19c4-430d-a2b5-48e5f9dbb09d"
      },
      "outputs": [
        {
          "output_type": "stream",
          "name": "stdout",
          "text": [
            "\n",
            "Dataset after dropping rows with missing 'Rating':\n",
            "<class 'pandas.core.frame.DataFrame'>\n",
            "Index: 7919 entries, 1 to 15508\n",
            "Data columns (total 10 columns):\n",
            " #   Column    Non-Null Count  Dtype  \n",
            "---  ------    --------------  -----  \n",
            " 0   Name      7919 non-null   object \n",
            " 1   Year      7919 non-null   object \n",
            " 2   Duration  5851 non-null   object \n",
            " 3   Genre     7817 non-null   object \n",
            " 4   Rating    7919 non-null   float64\n",
            " 5   Votes     7919 non-null   object \n",
            " 6   Director  7914 non-null   object \n",
            " 7   Actor 1   7794 non-null   object \n",
            " 8   Actor 2   7719 non-null   object \n",
            " 9   Actor 3   7627 non-null   object \n",
            "dtypes: float64(1), object(9)\n",
            "memory usage: 680.5+ KB\n",
            "None\n"
          ]
        }
      ],
      "source": [
        "# Dropping the rows where 'Rating' is missing as it's our target variable\n",
        "df = df.dropna(subset=['Rating'])\n",
        "print(\"\\nDataset after dropping rows with missing 'Rating':\")\n",
        "print(df.info())"
      ]
    },
    {
      "cell_type": "code",
      "execution_count": 497,
      "metadata": {
        "id": "yzUFweraW_dQ"
      },
      "outputs": [],
      "source": [
        "# Filling the missing values in other columns with a placeholder\n",
        "df = df.fillna('Unknown')"
      ]
    },
    {
      "cell_type": "code",
      "execution_count": 498,
      "metadata": {
        "id": "xr_UZMfqXGl5"
      },
      "outputs": [],
      "source": [
        "# Converting 'Year' to numeric\n",
        "df['Year'] = df['Year'].str.extract('(\\d{4})').astype(float)"
      ]
    },
    {
      "cell_type": "code",
      "execution_count": 499,
      "metadata": {
        "colab": {
          "base_uri": "https://localhost:8080/"
        },
        "id": "g8wG8s2vXLoQ",
        "outputId": "90f57f44-9809-42ed-a001-5d6b48972aec"
      },
      "outputs": [
        {
          "output_type": "execute_result",
          "data": {
            "text/plain": [
              "1        2019.0\n",
              "3        2019.0\n",
              "5        1997.0\n",
              "6        2005.0\n",
              "8        2012.0\n",
              "          ...  \n",
              "15501    1992.0\n",
              "15503    1989.0\n",
              "15504    1988.0\n",
              "15505    1999.0\n",
              "15508    1998.0\n",
              "Name: Year, Length: 7919, dtype: float64"
            ]
          },
          "metadata": {},
          "execution_count": 499
        }
      ],
      "source": [
        "df['Year']"
      ]
    },
    {
      "cell_type": "code",
      "execution_count": 500,
      "metadata": {
        "id": "082KjLv6SG9o"
      },
      "outputs": [],
      "source": [
        "# Replacing the 'Unknown' in 'Duration' with NaN and then converting it to numeric\n",
        "df['Duration'] = df['Duration'].astype(str).replace('Unknown', np.nan)\n",
        "df['Duration'] = df['Duration'].str.replace(' min', '').astype(float)"
      ]
    },
    {
      "cell_type": "code",
      "execution_count": 501,
      "metadata": {
        "colab": {
          "base_uri": "https://localhost:8080/"
        },
        "id": "L-3yeYinYPgC",
        "outputId": "8e517bb3-005d-4efc-b7b9-e831a9bb9263"
      },
      "outputs": [
        {
          "output_type": "execute_result",
          "data": {
            "text/plain": [
              "1        109.0\n",
              "3        110.0\n",
              "5        147.0\n",
              "6        142.0\n",
              "8         82.0\n",
              "         ...  \n",
              "15501      NaN\n",
              "15503    125.0\n",
              "15504      NaN\n",
              "15505    129.0\n",
              "15508    130.0\n",
              "Name: Duration, Length: 7919, dtype: float64"
            ]
          },
          "metadata": {},
          "execution_count": 501
        }
      ],
      "source": [
        "df['Duration']"
      ]
    },
    {
      "cell_type": "code",
      "execution_count": 502,
      "metadata": {
        "id": "gcF_aM75YTjo"
      },
      "outputs": [],
      "source": [
        "# Replacing the 'Unknown' in 'Votes' with NaN and then converting it to numeric\n",
        "df['Votes'] = df['Votes'].astype(str).replace('Unknown', np.nan)\n",
        "df['Votes'] = df['Votes'].str.replace(',', '').astype(float)"
      ]
    },
    {
      "cell_type": "code",
      "execution_count": 503,
      "metadata": {
        "colab": {
          "base_uri": "https://localhost:8080/"
        },
        "id": "K1EKQzRaYTeO",
        "outputId": "8cb23b42-aad0-4f41-fd68-fd43ba9324ba"
      },
      "outputs": [
        {
          "output_type": "execute_result",
          "data": {
            "text/plain": [
              "1           8.0\n",
              "3          35.0\n",
              "5         827.0\n",
              "6        1086.0\n",
              "8         326.0\n",
              "          ...  \n",
              "15501     135.0\n",
              "15503      44.0\n",
              "15504      11.0\n",
              "15505     655.0\n",
              "15508      20.0\n",
              "Name: Votes, Length: 7919, dtype: float64"
            ]
          },
          "metadata": {},
          "execution_count": 503
        }
      ],
      "source": [
        "df['Votes']"
      ]
    },
    {
      "cell_type": "code",
      "execution_count": 504,
      "metadata": {
        "colab": {
          "base_uri": "https://localhost:8080/"
        },
        "id": "rarAagUiYTZX",
        "outputId": "494c85e1-b0e4-493c-b50a-4c3d99594f7b"
      },
      "outputs": [
        {
          "output_type": "stream",
          "name": "stdout",
          "text": [
            "\n",
            "Number of duplicate rows by Name and Year: 3\n",
            "                   Name    Year  Duration                   Genre  Rating  \\\n",
            "6063   India's Daughter  2015.0     120.0    Action, Crime, Drama     6.9   \n",
            "12421  Sant Dnyaneshwar  1940.0     137.0               Biography     8.1   \n",
            "14881            Vikram  1986.0       NaN  Action, Drama, Romance     7.1   \n",
            "\n",
            "       Votes                 Director              Actor 1       Actor 2  \\\n",
            "6063    21.0              Rupesh Paul  Omkar Das Manikpuri  Amann Grewal   \n",
            "12421    9.0  Vishnupant Govind Damle      Sheikh Fattelal   Shahu Modak   \n",
            "14881   38.0        V. Madhusudan Rao   Nagarjuna Akkineni       Shobana   \n",
            "\n",
            "                   Actor 3  \n",
            "6063     Vishal Om Prakash  \n",
            "12421  Datta Dharmadhikari  \n",
            "14881           Annapoorna  \n"
          ]
        }
      ],
      "source": [
        "# Checking for the duplicate values by Name and Year\n",
        "duplicate_rows = df[df.duplicated(['Name', 'Year'])]\n",
        "print(f\"\\nNumber of duplicate rows by Name and Year: {len(duplicate_rows)}\")\n",
        "if len(duplicate_rows) > 0:\n",
        "    print(duplicate_rows)"
      ]
    },
    {
      "cell_type": "code",
      "execution_count": 505,
      "metadata": {
        "colab": {
          "base_uri": "https://localhost:8080/"
        },
        "id": "38Y-fAbxYkVQ",
        "outputId": "12b38f71-4c88-4335-b55b-eec060a552fe"
      },
      "outputs": [
        {
          "output_type": "stream",
          "name": "stdout",
          "text": [
            "\n",
            "Dataset after dropping duplicates by Name: (7372, 10)\n"
          ]
        }
      ],
      "source": [
        "# Dropping the duplicated values by Name\n",
        "df = df.drop_duplicates(subset=['Name'])\n",
        "print(f\"\\nDataset after dropping duplicates by Name: {df.shape}\")"
      ]
    },
    {
      "cell_type": "code",
      "execution_count": 506,
      "metadata": {
        "colab": {
          "base_uri": "https://localhost:8080/"
        },
        "id": "_9nWgHcRYo5t",
        "outputId": "4c73f253-482e-4969-bb78-3b5d7b55d385"
      },
      "outputs": [
        {
          "output_type": "stream",
          "name": "stdout",
          "text": [
            "<class 'pandas.core.frame.DataFrame'>\n",
            "Index: 7372 entries, 1 to 15508\n",
            "Data columns (total 10 columns):\n",
            " #   Column    Non-Null Count  Dtype  \n",
            "---  ------    --------------  -----  \n",
            " 0   Name      7372 non-null   object \n",
            " 1   Year      7372 non-null   float64\n",
            " 2   Duration  5467 non-null   float64\n",
            " 3   Genre     7372 non-null   object \n",
            " 4   Rating    7372 non-null   float64\n",
            " 5   Votes     7372 non-null   float64\n",
            " 6   Director  7372 non-null   object \n",
            " 7   Actor 1   7372 non-null   object \n",
            " 8   Actor 2   7372 non-null   object \n",
            " 9   Actor 3   7372 non-null   object \n",
            "dtypes: float64(4), object(6)\n",
            "memory usage: 633.5+ KB\n",
            "None\n"
          ]
        }
      ],
      "source": [
        "# Final dataframe info after all preprocessing steps\n",
        "print(df.info())"
      ]
    },
    {
      "cell_type": "code",
      "execution_count": 507,
      "metadata": {
        "colab": {
          "base_uri": "https://localhost:8080/",
          "height": 300
        },
        "id": "jsBXxnPPY05z",
        "outputId": "c7ceaf2d-3814-4c77-e72a-4e2426fc562d"
      },
      "outputs": [
        {
          "output_type": "execute_result",
          "data": {
            "text/plain": [
              "              Year     Duration       Rating          Votes\n",
              "count  7372.000000  5467.000000  7372.000000    7372.000000\n",
              "mean   1993.831660   131.701299     5.855345    1971.095496\n",
              "std      20.384302    26.769535     1.384032   11930.781406\n",
              "min    1917.000000    21.000000     1.100000       5.000000\n",
              "25%    1980.000000   116.000000     4.900000      16.000000\n",
              "50%    1998.000000   134.000000     6.000000      55.000000\n",
              "75%    2012.000000   150.000000     6.900000     419.000000\n",
              "max    2021.000000   321.000000    10.000000  591417.000000"
            ],
            "text/html": [
              "\n",
              "  <div id=\"df-24cae9f3-ec7d-4a40-b1b5-cd0341604d76\" class=\"colab-df-container\">\n",
              "    <div>\n",
              "<style scoped>\n",
              "    .dataframe tbody tr th:only-of-type {\n",
              "        vertical-align: middle;\n",
              "    }\n",
              "\n",
              "    .dataframe tbody tr th {\n",
              "        vertical-align: top;\n",
              "    }\n",
              "\n",
              "    .dataframe thead th {\n",
              "        text-align: right;\n",
              "    }\n",
              "</style>\n",
              "<table border=\"1\" class=\"dataframe\">\n",
              "  <thead>\n",
              "    <tr style=\"text-align: right;\">\n",
              "      <th></th>\n",
              "      <th>Year</th>\n",
              "      <th>Duration</th>\n",
              "      <th>Rating</th>\n",
              "      <th>Votes</th>\n",
              "    </tr>\n",
              "  </thead>\n",
              "  <tbody>\n",
              "    <tr>\n",
              "      <th>count</th>\n",
              "      <td>7372.000000</td>\n",
              "      <td>5467.000000</td>\n",
              "      <td>7372.000000</td>\n",
              "      <td>7372.000000</td>\n",
              "    </tr>\n",
              "    <tr>\n",
              "      <th>mean</th>\n",
              "      <td>1993.831660</td>\n",
              "      <td>131.701299</td>\n",
              "      <td>5.855345</td>\n",
              "      <td>1971.095496</td>\n",
              "    </tr>\n",
              "    <tr>\n",
              "      <th>std</th>\n",
              "      <td>20.384302</td>\n",
              "      <td>26.769535</td>\n",
              "      <td>1.384032</td>\n",
              "      <td>11930.781406</td>\n",
              "    </tr>\n",
              "    <tr>\n",
              "      <th>min</th>\n",
              "      <td>1917.000000</td>\n",
              "      <td>21.000000</td>\n",
              "      <td>1.100000</td>\n",
              "      <td>5.000000</td>\n",
              "    </tr>\n",
              "    <tr>\n",
              "      <th>25%</th>\n",
              "      <td>1980.000000</td>\n",
              "      <td>116.000000</td>\n",
              "      <td>4.900000</td>\n",
              "      <td>16.000000</td>\n",
              "    </tr>\n",
              "    <tr>\n",
              "      <th>50%</th>\n",
              "      <td>1998.000000</td>\n",
              "      <td>134.000000</td>\n",
              "      <td>6.000000</td>\n",
              "      <td>55.000000</td>\n",
              "    </tr>\n",
              "    <tr>\n",
              "      <th>75%</th>\n",
              "      <td>2012.000000</td>\n",
              "      <td>150.000000</td>\n",
              "      <td>6.900000</td>\n",
              "      <td>419.000000</td>\n",
              "    </tr>\n",
              "    <tr>\n",
              "      <th>max</th>\n",
              "      <td>2021.000000</td>\n",
              "      <td>321.000000</td>\n",
              "      <td>10.000000</td>\n",
              "      <td>591417.000000</td>\n",
              "    </tr>\n",
              "  </tbody>\n",
              "</table>\n",
              "</div>\n",
              "    <div class=\"colab-df-buttons\">\n",
              "\n",
              "  <div class=\"colab-df-container\">\n",
              "    <button class=\"colab-df-convert\" onclick=\"convertToInteractive('df-24cae9f3-ec7d-4a40-b1b5-cd0341604d76')\"\n",
              "            title=\"Convert this dataframe to an interactive table.\"\n",
              "            style=\"display:none;\">\n",
              "\n",
              "  <svg xmlns=\"http://www.w3.org/2000/svg\" height=\"24px\" viewBox=\"0 -960 960 960\">\n",
              "    <path d=\"M120-120v-720h720v720H120Zm60-500h600v-160H180v160Zm220 220h160v-160H400v160Zm0 220h160v-160H400v160ZM180-400h160v-160H180v160Zm440 0h160v-160H620v160ZM180-180h160v-160H180v160Zm440 0h160v-160H620v160Z\"/>\n",
              "  </svg>\n",
              "    </button>\n",
              "\n",
              "  <style>\n",
              "    .colab-df-container {\n",
              "      display:flex;\n",
              "      gap: 12px;\n",
              "    }\n",
              "\n",
              "    .colab-df-convert {\n",
              "      background-color: #E8F0FE;\n",
              "      border: none;\n",
              "      border-radius: 50%;\n",
              "      cursor: pointer;\n",
              "      display: none;\n",
              "      fill: #1967D2;\n",
              "      height: 32px;\n",
              "      padding: 0 0 0 0;\n",
              "      width: 32px;\n",
              "    }\n",
              "\n",
              "    .colab-df-convert:hover {\n",
              "      background-color: #E2EBFA;\n",
              "      box-shadow: 0px 1px 2px rgba(60, 64, 67, 0.3), 0px 1px 3px 1px rgba(60, 64, 67, 0.15);\n",
              "      fill: #174EA6;\n",
              "    }\n",
              "\n",
              "    .colab-df-buttons div {\n",
              "      margin-bottom: 4px;\n",
              "    }\n",
              "\n",
              "    [theme=dark] .colab-df-convert {\n",
              "      background-color: #3B4455;\n",
              "      fill: #D2E3FC;\n",
              "    }\n",
              "\n",
              "    [theme=dark] .colab-df-convert:hover {\n",
              "      background-color: #434B5C;\n",
              "      box-shadow: 0px 1px 3px 1px rgba(0, 0, 0, 0.15);\n",
              "      filter: drop-shadow(0px 1px 2px rgba(0, 0, 0, 0.3));\n",
              "      fill: #FFFFFF;\n",
              "    }\n",
              "  </style>\n",
              "\n",
              "    <script>\n",
              "      const buttonEl =\n",
              "        document.querySelector('#df-24cae9f3-ec7d-4a40-b1b5-cd0341604d76 button.colab-df-convert');\n",
              "      buttonEl.style.display =\n",
              "        google.colab.kernel.accessAllowed ? 'block' : 'none';\n",
              "\n",
              "      async function convertToInteractive(key) {\n",
              "        const element = document.querySelector('#df-24cae9f3-ec7d-4a40-b1b5-cd0341604d76');\n",
              "        const dataTable =\n",
              "          await google.colab.kernel.invokeFunction('convertToInteractive',\n",
              "                                                    [key], {});\n",
              "        if (!dataTable) return;\n",
              "\n",
              "        const docLinkHtml = 'Like what you see? Visit the ' +\n",
              "          '<a target=\"_blank\" href=https://colab.research.google.com/notebooks/data_table.ipynb>data table notebook</a>'\n",
              "          + ' to learn more about interactive tables.';\n",
              "        element.innerHTML = '';\n",
              "        dataTable['output_type'] = 'display_data';\n",
              "        await google.colab.output.renderOutput(dataTable, element);\n",
              "        const docLink = document.createElement('div');\n",
              "        docLink.innerHTML = docLinkHtml;\n",
              "        element.appendChild(docLink);\n",
              "      }\n",
              "    </script>\n",
              "  </div>\n",
              "\n",
              "\n",
              "<div id=\"df-d4ee19e6-6362-4149-8ac5-c2f443c4a504\">\n",
              "  <button class=\"colab-df-quickchart\" onclick=\"quickchart('df-d4ee19e6-6362-4149-8ac5-c2f443c4a504')\"\n",
              "            title=\"Suggest charts\"\n",
              "            style=\"display:none;\">\n",
              "\n",
              "<svg xmlns=\"http://www.w3.org/2000/svg\" height=\"24px\"viewBox=\"0 0 24 24\"\n",
              "     width=\"24px\">\n",
              "    <g>\n",
              "        <path d=\"M19 3H5c-1.1 0-2 .9-2 2v14c0 1.1.9 2 2 2h14c1.1 0 2-.9 2-2V5c0-1.1-.9-2-2-2zM9 17H7v-7h2v7zm4 0h-2V7h2v10zm4 0h-2v-4h2v4z\"/>\n",
              "    </g>\n",
              "</svg>\n",
              "  </button>\n",
              "\n",
              "<style>\n",
              "  .colab-df-quickchart {\n",
              "      --bg-color: #E8F0FE;\n",
              "      --fill-color: #1967D2;\n",
              "      --hover-bg-color: #E2EBFA;\n",
              "      --hover-fill-color: #174EA6;\n",
              "      --disabled-fill-color: #AAA;\n",
              "      --disabled-bg-color: #DDD;\n",
              "  }\n",
              "\n",
              "  [theme=dark] .colab-df-quickchart {\n",
              "      --bg-color: #3B4455;\n",
              "      --fill-color: #D2E3FC;\n",
              "      --hover-bg-color: #434B5C;\n",
              "      --hover-fill-color: #FFFFFF;\n",
              "      --disabled-bg-color: #3B4455;\n",
              "      --disabled-fill-color: #666;\n",
              "  }\n",
              "\n",
              "  .colab-df-quickchart {\n",
              "    background-color: var(--bg-color);\n",
              "    border: none;\n",
              "    border-radius: 50%;\n",
              "    cursor: pointer;\n",
              "    display: none;\n",
              "    fill: var(--fill-color);\n",
              "    height: 32px;\n",
              "    padding: 0;\n",
              "    width: 32px;\n",
              "  }\n",
              "\n",
              "  .colab-df-quickchart:hover {\n",
              "    background-color: var(--hover-bg-color);\n",
              "    box-shadow: 0 1px 2px rgba(60, 64, 67, 0.3), 0 1px 3px 1px rgba(60, 64, 67, 0.15);\n",
              "    fill: var(--button-hover-fill-color);\n",
              "  }\n",
              "\n",
              "  .colab-df-quickchart-complete:disabled,\n",
              "  .colab-df-quickchart-complete:disabled:hover {\n",
              "    background-color: var(--disabled-bg-color);\n",
              "    fill: var(--disabled-fill-color);\n",
              "    box-shadow: none;\n",
              "  }\n",
              "\n",
              "  .colab-df-spinner {\n",
              "    border: 2px solid var(--fill-color);\n",
              "    border-color: transparent;\n",
              "    border-bottom-color: var(--fill-color);\n",
              "    animation:\n",
              "      spin 1s steps(1) infinite;\n",
              "  }\n",
              "\n",
              "  @keyframes spin {\n",
              "    0% {\n",
              "      border-color: transparent;\n",
              "      border-bottom-color: var(--fill-color);\n",
              "      border-left-color: var(--fill-color);\n",
              "    }\n",
              "    20% {\n",
              "      border-color: transparent;\n",
              "      border-left-color: var(--fill-color);\n",
              "      border-top-color: var(--fill-color);\n",
              "    }\n",
              "    30% {\n",
              "      border-color: transparent;\n",
              "      border-left-color: var(--fill-color);\n",
              "      border-top-color: var(--fill-color);\n",
              "      border-right-color: var(--fill-color);\n",
              "    }\n",
              "    40% {\n",
              "      border-color: transparent;\n",
              "      border-right-color: var(--fill-color);\n",
              "      border-top-color: var(--fill-color);\n",
              "    }\n",
              "    60% {\n",
              "      border-color: transparent;\n",
              "      border-right-color: var(--fill-color);\n",
              "    }\n",
              "    80% {\n",
              "      border-color: transparent;\n",
              "      border-right-color: var(--fill-color);\n",
              "      border-bottom-color: var(--fill-color);\n",
              "    }\n",
              "    90% {\n",
              "      border-color: transparent;\n",
              "      border-bottom-color: var(--fill-color);\n",
              "    }\n",
              "  }\n",
              "</style>\n",
              "\n",
              "  <script>\n",
              "    async function quickchart(key) {\n",
              "      const quickchartButtonEl =\n",
              "        document.querySelector('#' + key + ' button');\n",
              "      quickchartButtonEl.disabled = true;  // To prevent multiple clicks.\n",
              "      quickchartButtonEl.classList.add('colab-df-spinner');\n",
              "      try {\n",
              "        const charts = await google.colab.kernel.invokeFunction(\n",
              "            'suggestCharts', [key], {});\n",
              "      } catch (error) {\n",
              "        console.error('Error during call to suggestCharts:', error);\n",
              "      }\n",
              "      quickchartButtonEl.classList.remove('colab-df-spinner');\n",
              "      quickchartButtonEl.classList.add('colab-df-quickchart-complete');\n",
              "    }\n",
              "    (() => {\n",
              "      let quickchartButtonEl =\n",
              "        document.querySelector('#df-d4ee19e6-6362-4149-8ac5-c2f443c4a504 button');\n",
              "      quickchartButtonEl.style.display =\n",
              "        google.colab.kernel.accessAllowed ? 'block' : 'none';\n",
              "    })();\n",
              "  </script>\n",
              "</div>\n",
              "\n",
              "    </div>\n",
              "  </div>\n"
            ],
            "application/vnd.google.colaboratory.intrinsic+json": {
              "type": "dataframe",
              "summary": "{\n  \"name\": \"df\",\n  \"rows\": 8,\n  \"fields\": [\n    {\n      \"column\": \"Year\",\n      \"properties\": {\n        \"dtype\": \"number\",\n        \"std\": 2118.3610555421274,\n        \"min\": 20.384301601833954,\n        \"max\": 7372.0,\n        \"num_unique_values\": 8,\n        \"samples\": [\n          1993.831660336408,\n          1998.0,\n          7372.0\n        ],\n        \"semantic_type\": \"\",\n        \"description\": \"\"\n      }\n    },\n    {\n      \"column\": \"Duration\",\n      \"properties\": {\n        \"dtype\": \"number\",\n        \"std\": 1889.650732600038,\n        \"min\": 21.0,\n        \"max\": 5467.0,\n        \"num_unique_values\": 8,\n        \"samples\": [\n          131.7012987012987,\n          134.0,\n          5467.0\n        ],\n        \"semantic_type\": \"\",\n        \"description\": \"\"\n      }\n    },\n    {\n      \"column\": \"Rating\",\n      \"properties\": {\n        \"dtype\": \"number\",\n        \"std\": 2604.5718842829233,\n        \"min\": 1.1,\n        \"max\": 7372.0,\n        \"num_unique_values\": 8,\n        \"samples\": [\n          5.855344546934346,\n          6.0,\n          7372.0\n        ],\n        \"semantic_type\": \"\",\n        \"description\": \"\"\n      }\n    },\n    {\n      \"column\": \"Votes\",\n      \"properties\": {\n        \"dtype\": \"number\",\n        \"std\": 208043.67911856412,\n        \"min\": 5.0,\n        \"max\": 591417.0,\n        \"num_unique_values\": 8,\n        \"samples\": [\n          1971.0954964731416,\n          55.0,\n          7372.0\n        ],\n        \"semantic_type\": \"\",\n        \"description\": \"\"\n      }\n    }\n  ]\n}"
            }
          },
          "metadata": {},
          "execution_count": 507
        }
      ],
      "source": [
        "df.describe()"
      ]
    },
    {
      "cell_type": "code",
      "source": [
        "df.head()"
      ],
      "metadata": {
        "id": "LID21cJEjPSe",
        "colab": {
          "base_uri": "https://localhost:8080/",
          "height": 206
        },
        "outputId": "afc180e4-a5ea-464d-a7a7-8cdc5f9b9fe1"
      },
      "execution_count": 508,
      "outputs": [
        {
          "output_type": "execute_result",
          "data": {
            "text/plain": [
              "                                 Name    Year  Duration  \\\n",
              "1  #Gadhvi (He thought he was Gandhi)  2019.0     109.0   \n",
              "3                             #Yaaram  2019.0     110.0   \n",
              "5                ...Aur Pyaar Ho Gaya  1997.0     147.0   \n",
              "6                           ...Yahaan  2005.0     142.0   \n",
              "8                  ?: A Question Mark  2012.0      82.0   \n",
              "\n",
              "                       Genre  Rating   Votes        Director          Actor 1  \\\n",
              "1                      Drama     7.0     8.0   Gaurav Bakshi     Rasika Dugal   \n",
              "3            Comedy, Romance     4.4    35.0      Ovais Khan          Prateik   \n",
              "5     Comedy, Drama, Musical     4.7   827.0    Rahul Rawail       Bobby Deol   \n",
              "6        Drama, Romance, War     7.4  1086.0  Shoojit Sircar  Jimmy Sheirgill   \n",
              "8  Horror, Mystery, Thriller     5.6   326.0   Allyson Patel        Yash Dave   \n",
              "\n",
              "                  Actor 2          Actor 3  \n",
              "1          Vivek Ghamande    Arvind Jangid  \n",
              "3              Ishita Raj  Siddhant Kapoor  \n",
              "5  Aishwarya Rai Bachchan    Shammi Kapoor  \n",
              "6          Minissha Lamba   Yashpal Sharma  \n",
              "8          Muntazir Ahmad     Kiran Bhatia  "
            ],
            "text/html": [
              "\n",
              "  <div id=\"df-51fdd065-b14d-415d-b045-d15851079b2c\" class=\"colab-df-container\">\n",
              "    <div>\n",
              "<style scoped>\n",
              "    .dataframe tbody tr th:only-of-type {\n",
              "        vertical-align: middle;\n",
              "    }\n",
              "\n",
              "    .dataframe tbody tr th {\n",
              "        vertical-align: top;\n",
              "    }\n",
              "\n",
              "    .dataframe thead th {\n",
              "        text-align: right;\n",
              "    }\n",
              "</style>\n",
              "<table border=\"1\" class=\"dataframe\">\n",
              "  <thead>\n",
              "    <tr style=\"text-align: right;\">\n",
              "      <th></th>\n",
              "      <th>Name</th>\n",
              "      <th>Year</th>\n",
              "      <th>Duration</th>\n",
              "      <th>Genre</th>\n",
              "      <th>Rating</th>\n",
              "      <th>Votes</th>\n",
              "      <th>Director</th>\n",
              "      <th>Actor 1</th>\n",
              "      <th>Actor 2</th>\n",
              "      <th>Actor 3</th>\n",
              "    </tr>\n",
              "  </thead>\n",
              "  <tbody>\n",
              "    <tr>\n",
              "      <th>1</th>\n",
              "      <td>#Gadhvi (He thought he was Gandhi)</td>\n",
              "      <td>2019.0</td>\n",
              "      <td>109.0</td>\n",
              "      <td>Drama</td>\n",
              "      <td>7.0</td>\n",
              "      <td>8.0</td>\n",
              "      <td>Gaurav Bakshi</td>\n",
              "      <td>Rasika Dugal</td>\n",
              "      <td>Vivek Ghamande</td>\n",
              "      <td>Arvind Jangid</td>\n",
              "    </tr>\n",
              "    <tr>\n",
              "      <th>3</th>\n",
              "      <td>#Yaaram</td>\n",
              "      <td>2019.0</td>\n",
              "      <td>110.0</td>\n",
              "      <td>Comedy, Romance</td>\n",
              "      <td>4.4</td>\n",
              "      <td>35.0</td>\n",
              "      <td>Ovais Khan</td>\n",
              "      <td>Prateik</td>\n",
              "      <td>Ishita Raj</td>\n",
              "      <td>Siddhant Kapoor</td>\n",
              "    </tr>\n",
              "    <tr>\n",
              "      <th>5</th>\n",
              "      <td>...Aur Pyaar Ho Gaya</td>\n",
              "      <td>1997.0</td>\n",
              "      <td>147.0</td>\n",
              "      <td>Comedy, Drama, Musical</td>\n",
              "      <td>4.7</td>\n",
              "      <td>827.0</td>\n",
              "      <td>Rahul Rawail</td>\n",
              "      <td>Bobby Deol</td>\n",
              "      <td>Aishwarya Rai Bachchan</td>\n",
              "      <td>Shammi Kapoor</td>\n",
              "    </tr>\n",
              "    <tr>\n",
              "      <th>6</th>\n",
              "      <td>...Yahaan</td>\n",
              "      <td>2005.0</td>\n",
              "      <td>142.0</td>\n",
              "      <td>Drama, Romance, War</td>\n",
              "      <td>7.4</td>\n",
              "      <td>1086.0</td>\n",
              "      <td>Shoojit Sircar</td>\n",
              "      <td>Jimmy Sheirgill</td>\n",
              "      <td>Minissha Lamba</td>\n",
              "      <td>Yashpal Sharma</td>\n",
              "    </tr>\n",
              "    <tr>\n",
              "      <th>8</th>\n",
              "      <td>?: A Question Mark</td>\n",
              "      <td>2012.0</td>\n",
              "      <td>82.0</td>\n",
              "      <td>Horror, Mystery, Thriller</td>\n",
              "      <td>5.6</td>\n",
              "      <td>326.0</td>\n",
              "      <td>Allyson Patel</td>\n",
              "      <td>Yash Dave</td>\n",
              "      <td>Muntazir Ahmad</td>\n",
              "      <td>Kiran Bhatia</td>\n",
              "    </tr>\n",
              "  </tbody>\n",
              "</table>\n",
              "</div>\n",
              "    <div class=\"colab-df-buttons\">\n",
              "\n",
              "  <div class=\"colab-df-container\">\n",
              "    <button class=\"colab-df-convert\" onclick=\"convertToInteractive('df-51fdd065-b14d-415d-b045-d15851079b2c')\"\n",
              "            title=\"Convert this dataframe to an interactive table.\"\n",
              "            style=\"display:none;\">\n",
              "\n",
              "  <svg xmlns=\"http://www.w3.org/2000/svg\" height=\"24px\" viewBox=\"0 -960 960 960\">\n",
              "    <path d=\"M120-120v-720h720v720H120Zm60-500h600v-160H180v160Zm220 220h160v-160H400v160Zm0 220h160v-160H400v160ZM180-400h160v-160H180v160Zm440 0h160v-160H620v160ZM180-180h160v-160H180v160Zm440 0h160v-160H620v160Z\"/>\n",
              "  </svg>\n",
              "    </button>\n",
              "\n",
              "  <style>\n",
              "    .colab-df-container {\n",
              "      display:flex;\n",
              "      gap: 12px;\n",
              "    }\n",
              "\n",
              "    .colab-df-convert {\n",
              "      background-color: #E8F0FE;\n",
              "      border: none;\n",
              "      border-radius: 50%;\n",
              "      cursor: pointer;\n",
              "      display: none;\n",
              "      fill: #1967D2;\n",
              "      height: 32px;\n",
              "      padding: 0 0 0 0;\n",
              "      width: 32px;\n",
              "    }\n",
              "\n",
              "    .colab-df-convert:hover {\n",
              "      background-color: #E2EBFA;\n",
              "      box-shadow: 0px 1px 2px rgba(60, 64, 67, 0.3), 0px 1px 3px 1px rgba(60, 64, 67, 0.15);\n",
              "      fill: #174EA6;\n",
              "    }\n",
              "\n",
              "    .colab-df-buttons div {\n",
              "      margin-bottom: 4px;\n",
              "    }\n",
              "\n",
              "    [theme=dark] .colab-df-convert {\n",
              "      background-color: #3B4455;\n",
              "      fill: #D2E3FC;\n",
              "    }\n",
              "\n",
              "    [theme=dark] .colab-df-convert:hover {\n",
              "      background-color: #434B5C;\n",
              "      box-shadow: 0px 1px 3px 1px rgba(0, 0, 0, 0.15);\n",
              "      filter: drop-shadow(0px 1px 2px rgba(0, 0, 0, 0.3));\n",
              "      fill: #FFFFFF;\n",
              "    }\n",
              "  </style>\n",
              "\n",
              "    <script>\n",
              "      const buttonEl =\n",
              "        document.querySelector('#df-51fdd065-b14d-415d-b045-d15851079b2c button.colab-df-convert');\n",
              "      buttonEl.style.display =\n",
              "        google.colab.kernel.accessAllowed ? 'block' : 'none';\n",
              "\n",
              "      async function convertToInteractive(key) {\n",
              "        const element = document.querySelector('#df-51fdd065-b14d-415d-b045-d15851079b2c');\n",
              "        const dataTable =\n",
              "          await google.colab.kernel.invokeFunction('convertToInteractive',\n",
              "                                                    [key], {});\n",
              "        if (!dataTable) return;\n",
              "\n",
              "        const docLinkHtml = 'Like what you see? Visit the ' +\n",
              "          '<a target=\"_blank\" href=https://colab.research.google.com/notebooks/data_table.ipynb>data table notebook</a>'\n",
              "          + ' to learn more about interactive tables.';\n",
              "        element.innerHTML = '';\n",
              "        dataTable['output_type'] = 'display_data';\n",
              "        await google.colab.output.renderOutput(dataTable, element);\n",
              "        const docLink = document.createElement('div');\n",
              "        docLink.innerHTML = docLinkHtml;\n",
              "        element.appendChild(docLink);\n",
              "      }\n",
              "    </script>\n",
              "  </div>\n",
              "\n",
              "\n",
              "<div id=\"df-6a7949f9-8676-4f00-9002-9ac03ae4a031\">\n",
              "  <button class=\"colab-df-quickchart\" onclick=\"quickchart('df-6a7949f9-8676-4f00-9002-9ac03ae4a031')\"\n",
              "            title=\"Suggest charts\"\n",
              "            style=\"display:none;\">\n",
              "\n",
              "<svg xmlns=\"http://www.w3.org/2000/svg\" height=\"24px\"viewBox=\"0 0 24 24\"\n",
              "     width=\"24px\">\n",
              "    <g>\n",
              "        <path d=\"M19 3H5c-1.1 0-2 .9-2 2v14c0 1.1.9 2 2 2h14c1.1 0 2-.9 2-2V5c0-1.1-.9-2-2-2zM9 17H7v-7h2v7zm4 0h-2V7h2v10zm4 0h-2v-4h2v4z\"/>\n",
              "    </g>\n",
              "</svg>\n",
              "  </button>\n",
              "\n",
              "<style>\n",
              "  .colab-df-quickchart {\n",
              "      --bg-color: #E8F0FE;\n",
              "      --fill-color: #1967D2;\n",
              "      --hover-bg-color: #E2EBFA;\n",
              "      --hover-fill-color: #174EA6;\n",
              "      --disabled-fill-color: #AAA;\n",
              "      --disabled-bg-color: #DDD;\n",
              "  }\n",
              "\n",
              "  [theme=dark] .colab-df-quickchart {\n",
              "      --bg-color: #3B4455;\n",
              "      --fill-color: #D2E3FC;\n",
              "      --hover-bg-color: #434B5C;\n",
              "      --hover-fill-color: #FFFFFF;\n",
              "      --disabled-bg-color: #3B4455;\n",
              "      --disabled-fill-color: #666;\n",
              "  }\n",
              "\n",
              "  .colab-df-quickchart {\n",
              "    background-color: var(--bg-color);\n",
              "    border: none;\n",
              "    border-radius: 50%;\n",
              "    cursor: pointer;\n",
              "    display: none;\n",
              "    fill: var(--fill-color);\n",
              "    height: 32px;\n",
              "    padding: 0;\n",
              "    width: 32px;\n",
              "  }\n",
              "\n",
              "  .colab-df-quickchart:hover {\n",
              "    background-color: var(--hover-bg-color);\n",
              "    box-shadow: 0 1px 2px rgba(60, 64, 67, 0.3), 0 1px 3px 1px rgba(60, 64, 67, 0.15);\n",
              "    fill: var(--button-hover-fill-color);\n",
              "  }\n",
              "\n",
              "  .colab-df-quickchart-complete:disabled,\n",
              "  .colab-df-quickchart-complete:disabled:hover {\n",
              "    background-color: var(--disabled-bg-color);\n",
              "    fill: var(--disabled-fill-color);\n",
              "    box-shadow: none;\n",
              "  }\n",
              "\n",
              "  .colab-df-spinner {\n",
              "    border: 2px solid var(--fill-color);\n",
              "    border-color: transparent;\n",
              "    border-bottom-color: var(--fill-color);\n",
              "    animation:\n",
              "      spin 1s steps(1) infinite;\n",
              "  }\n",
              "\n",
              "  @keyframes spin {\n",
              "    0% {\n",
              "      border-color: transparent;\n",
              "      border-bottom-color: var(--fill-color);\n",
              "      border-left-color: var(--fill-color);\n",
              "    }\n",
              "    20% {\n",
              "      border-color: transparent;\n",
              "      border-left-color: var(--fill-color);\n",
              "      border-top-color: var(--fill-color);\n",
              "    }\n",
              "    30% {\n",
              "      border-color: transparent;\n",
              "      border-left-color: var(--fill-color);\n",
              "      border-top-color: var(--fill-color);\n",
              "      border-right-color: var(--fill-color);\n",
              "    }\n",
              "    40% {\n",
              "      border-color: transparent;\n",
              "      border-right-color: var(--fill-color);\n",
              "      border-top-color: var(--fill-color);\n",
              "    }\n",
              "    60% {\n",
              "      border-color: transparent;\n",
              "      border-right-color: var(--fill-color);\n",
              "    }\n",
              "    80% {\n",
              "      border-color: transparent;\n",
              "      border-right-color: var(--fill-color);\n",
              "      border-bottom-color: var(--fill-color);\n",
              "    }\n",
              "    90% {\n",
              "      border-color: transparent;\n",
              "      border-bottom-color: var(--fill-color);\n",
              "    }\n",
              "  }\n",
              "</style>\n",
              "\n",
              "  <script>\n",
              "    async function quickchart(key) {\n",
              "      const quickchartButtonEl =\n",
              "        document.querySelector('#' + key + ' button');\n",
              "      quickchartButtonEl.disabled = true;  // To prevent multiple clicks.\n",
              "      quickchartButtonEl.classList.add('colab-df-spinner');\n",
              "      try {\n",
              "        const charts = await google.colab.kernel.invokeFunction(\n",
              "            'suggestCharts', [key], {});\n",
              "      } catch (error) {\n",
              "        console.error('Error during call to suggestCharts:', error);\n",
              "      }\n",
              "      quickchartButtonEl.classList.remove('colab-df-spinner');\n",
              "      quickchartButtonEl.classList.add('colab-df-quickchart-complete');\n",
              "    }\n",
              "    (() => {\n",
              "      let quickchartButtonEl =\n",
              "        document.querySelector('#df-6a7949f9-8676-4f00-9002-9ac03ae4a031 button');\n",
              "      quickchartButtonEl.style.display =\n",
              "        google.colab.kernel.accessAllowed ? 'block' : 'none';\n",
              "    })();\n",
              "  </script>\n",
              "</div>\n",
              "\n",
              "    </div>\n",
              "  </div>\n"
            ],
            "application/vnd.google.colaboratory.intrinsic+json": {
              "type": "dataframe",
              "variable_name": "df",
              "summary": "{\n  \"name\": \"df\",\n  \"rows\": 7372,\n  \"fields\": [\n    {\n      \"column\": \"Name\",\n      \"properties\": {\n        \"dtype\": \"string\",\n        \"num_unique_values\": 7372,\n        \"samples\": [\n          \"Kanoon Ki Zanjeer\",\n          \"Do Boond Pani\",\n          \"Kaun?\"\n        ],\n        \"semantic_type\": \"\",\n        \"description\": \"\"\n      }\n    },\n    {\n      \"column\": \"Year\",\n      \"properties\": {\n        \"dtype\": \"number\",\n        \"std\": 20.384301601833954,\n        \"min\": 1917.0,\n        \"max\": 2021.0,\n        \"num_unique_values\": 92,\n        \"samples\": [\n          1968.0,\n          1979.0,\n          1971.0\n        ],\n        \"semantic_type\": \"\",\n        \"description\": \"\"\n      }\n    },\n    {\n      \"column\": \"Duration\",\n      \"properties\": {\n        \"dtype\": \"number\",\n        \"std\": 26.769534556731664,\n        \"min\": 21.0,\n        \"max\": 321.0,\n        \"num_unique_values\": 178,\n        \"samples\": [\n          124.0,\n          134.0,\n          191.0\n        ],\n        \"semantic_type\": \"\",\n        \"description\": \"\"\n      }\n    },\n    {\n      \"column\": \"Genre\",\n      \"properties\": {\n        \"dtype\": \"category\",\n        \"num_unique_values\": 420,\n        \"samples\": [\n          \"Biography, Drama, Music\",\n          \"Drama, Musical, Sport\",\n          \"Biography, Crime, Drama\"\n        ],\n        \"semantic_type\": \"\",\n        \"description\": \"\"\n      }\n    },\n    {\n      \"column\": \"Rating\",\n      \"properties\": {\n        \"dtype\": \"number\",\n        \"std\": 1.3840320170367137,\n        \"min\": 1.1,\n        \"max\": 10.0,\n        \"num_unique_values\": 84,\n        \"samples\": [\n          1.4,\n          7.0,\n          2.9\n        ],\n        \"semantic_type\": \"\",\n        \"description\": \"\"\n      }\n    },\n    {\n      \"column\": \"Votes\",\n      \"properties\": {\n        \"dtype\": \"number\",\n        \"std\": 11930.781406120284,\n        \"min\": 5.0,\n        \"max\": 591417.0,\n        \"num_unique_values\": 1946,\n        \"samples\": [\n          215.0,\n          5924.0,\n          1351.0\n        ],\n        \"semantic_type\": \"\",\n        \"description\": \"\"\n      }\n    },\n    {\n      \"column\": \"Director\",\n      \"properties\": {\n        \"dtype\": \"category\",\n        \"num_unique_values\": 3057,\n        \"samples\": [\n          \"Chi Gurudutt\",\n          \"Madhur Bhandarkar\",\n          \"Aarti Shrivastava\"\n        ],\n        \"semantic_type\": \"\",\n        \"description\": \"\"\n      }\n    },\n    {\n      \"column\": \"Actor 1\",\n      \"properties\": {\n        \"dtype\": \"category\",\n        \"num_unique_values\": 2482,\n        \"samples\": [\n          \"Tania Nazmeen Dean\",\n          \"Manish Chaudhary\",\n          \"Shiv Panditt\"\n        ],\n        \"semantic_type\": \"\",\n        \"description\": \"\"\n      }\n    },\n    {\n      \"column\": \"Actor 2\",\n      \"properties\": {\n        \"dtype\": \"category\",\n        \"num_unique_values\": 2804,\n        \"samples\": [\n          \"Sheetal Shah\",\n          \"Radharani\",\n          \"Jannat Ansari\"\n        ],\n        \"semantic_type\": \"\",\n        \"description\": \"\"\n      }\n    },\n    {\n      \"column\": \"Actor 3\",\n      \"properties\": {\n        \"dtype\": \"category\",\n        \"num_unique_values\": 2969,\n        \"samples\": [\n          \"Firoz Irani\",\n          \"Vyjayanthimala\",\n          \"Geeta Bali\"\n        ],\n        \"semantic_type\": \"\",\n        \"description\": \"\"\n      }\n    }\n  ]\n}"
            }
          },
          "metadata": {},
          "execution_count": 508
        }
      ]
    },
    {
      "cell_type": "markdown",
      "source": [
        "**Analyze the data based on the following points:**\n",
        "\n",
        "\n",
        "\n",
        "1. Year with best rating.\n",
        "2. Does length of movie have any impact with the rating?\n",
        "3. Top 10 movies according to rating per year and overall.\n",
        "4. Number of popular movies released each year.\n",
        "5. Counting the number of votes which movies preformed better in rating per year and overall.\n",
        "6. Which director directed the most/least movies?\n",
        "7. Which actor starred in the most/least movies?"
      ],
      "metadata": {
        "id": "hwXyJc6jJZe_"
      }
    },
    {
      "cell_type": "code",
      "source": [
        "# Year with best rating and years having the same rating\n",
        "\n",
        "best_year = df.groupby('Year')['Rating'].mean().sort_values(ascending=False).index[0]\n",
        "best_rating = df.groupby('Year')['Rating'].mean().sort_values(ascending=False).values[0]\n",
        "\n",
        "print(f\"Year with the best average rating: {best_year}\")\n",
        "print(f\"Average rating: {best_rating}\")\n",
        "\n",
        "# Years with the same rating as the best year\n",
        "same_rating_years = df.groupby('Year')['Rating'].mean().loc[lambda x: x == best_rating].index.tolist()\n",
        "\n",
        "if len(same_rating_years) > 1:\n",
        "    print(f\"Other years with the same average rating: {same_rating_years}\")\n",
        "else:\n",
        "    print(\"No other years have the same average rating.\")\n"
      ],
      "metadata": {
        "colab": {
          "base_uri": "https://localhost:8080/"
        },
        "id": "djqHIx-UOhYZ",
        "outputId": "e2589114-6cba-47ec-b6a1-5cc759d8483c"
      },
      "execution_count": 509,
      "outputs": [
        {
          "output_type": "stream",
          "name": "stdout",
          "text": [
            "Year with the best average rating: 1948.0\n",
            "Average rating: 7.0687500000000005\n",
            "No other years have the same average rating.\n"
          ]
        }
      ]
    },
    {
      "cell_type": "code",
      "source": [
        "# Does length of movie have any impact with the rating?\n",
        "\n",
        "# Calculate the correlation coefficient between rating and duration\n",
        "correlation = df['Rating'].corr(df['Duration'])\n",
        "\n",
        "# Print the correlation coefficient\n",
        "print(f\"Correlation between rating and duration: {correlation}\")\n",
        "\n",
        "# Based on the sign of the correlation coefficient, you can determine whether there is a positive or negative relationship between rating and duration.\n",
        "if correlation > 0:\n",
        "  print(\"Yes, there is a positive relationship between rating and duration.\")\n",
        "else:\n",
        "  print(\"No, there is no positive relationship between rating and duration.\")\n"
      ],
      "metadata": {
        "colab": {
          "base_uri": "https://localhost:8080/"
        },
        "id": "9iuDWOQ3OP9e",
        "outputId": "25f384ca-2c25-4a5c-d512-462505a73467"
      },
      "execution_count": 510,
      "outputs": [
        {
          "output_type": "stream",
          "name": "stdout",
          "text": [
            "Correlation between rating and duration: -0.0302862063672242\n",
            "No, there is no positive relationship between rating and duration.\n"
          ]
        }
      ]
    },
    {
      "cell_type": "code",
      "source": [
        " # Top 10 movies according to rating per year\n",
        "top_movies_by_year = df.groupby('Year')['Rating'].nlargest(10).reset_index()\n",
        "print(\"\\nTop 10 movies according to rating per year:\")\n",
        "print(top_movies_by_year)\n",
        "\n",
        "# Top 10 movies according to rating overall\n",
        "top_movies_overall = df.sort_values(by='Rating', ascending=False).head(10)\n",
        "print(\"\\nTop 10 movies according to rating overall:\")\n",
        "print(top_movies_overall)\n"
      ],
      "metadata": {
        "colab": {
          "base_uri": "https://localhost:8080/"
        },
        "id": "KETABVVSNTCR",
        "outputId": "792664f8-c9c5-44de-bfb7-cb805c2a642c"
      },
      "execution_count": 511,
      "outputs": [
        {
          "output_type": "stream",
          "name": "stdout",
          "text": [
            "\n",
            "Top 10 movies according to rating per year:\n",
            "       Year  level_1  Rating\n",
            "0    1917.0     8146     6.7\n",
            "1    1931.0     7203     6.2\n",
            "2    1931.0    14161     6.2\n",
            "3    1931.0     4171     5.3\n",
            "4    1932.0     2183     6.1\n",
            "..      ...      ...     ...\n",
            "866  2021.0    12673     9.3\n",
            "867  2021.0     2931     9.1\n",
            "868  2021.0     6952     9.1\n",
            "869  2021.0     2535     9.0\n",
            "870  2021.0     3224     9.0\n",
            "\n",
            "[871 rows x 3 columns]\n",
            "\n",
            "Top 10 movies according to rating overall:\n",
            "                      Name    Year  Duration                         Genre  \\\n",
            "8339       Love Qubool Hai  2020.0      94.0                Drama, Romance   \n",
            "5410            Half Songs  2021.0      79.0                Music, Romance   \n",
            "2563                 Breed  2020.0       NaN                         Drama   \n",
            "6852                  June  2021.0      93.0                         Drama   \n",
            "5077          Gho Gho Rani  2019.0     105.0              History, Romance   \n",
            "11704             Ram-Path  2017.0       NaN                   Documentary   \n",
            "14222  The Reluctant Crime  2020.0     113.0                         Drama   \n",
            "5125           God of gods  2019.0      90.0                   Documentary   \n",
            "8344          Love Sorries  2021.0     101.0        Comedy, Drama, Romance   \n",
            "13231           Sindhustan  2019.0      64.0  Documentary, Family, History   \n",
            "\n",
            "       Rating  Votes         Director            Actor 1          Actor 2  \\\n",
            "8339     10.0    5.0  Saif Ali Sayeed          Ahaan Jha   Mahesh Narayan   \n",
            "5410      9.7    7.0      Sriram Raja       Raj Banerjee  Emon Chatterjee   \n",
            "2563      9.6   48.0      Bobby Kumar        Bobby Kumar           Ashfaq   \n",
            "6852      9.4   18.0   Suhrud Godbole     Vaibhav Khisti   Nilesh Divekar   \n",
            "5077      9.4   47.0     Munni Pankaj  Nishi Neha Mishra     Pankaj Kamal   \n",
            "11704     9.4    5.0     Ashish Dubey        Ishan Jacob          Unknown   \n",
            "14222     9.4   16.0    Arvind Pratap    Dharmendra Ahir   Awanish Kotnal   \n",
            "5125      9.3   46.0     Venkatesh Bk  Tejaswini Manogna    Triyug Mantri   \n",
            "8344      9.3   79.0     Gautam Joshi   Prashant Chaubey  Puneet Chouksey   \n",
            "13231     9.3   36.0   Sapna Bhavnani       Leila Advani      Laj Badlani   \n",
            "\n",
            "                   Actor 3  \n",
            "8339   Rajasree Rajakumari  \n",
            "5410     Purshottam Mulani  \n",
            "2563        Fasih Choudhry  \n",
            "6852        Jitendra Joshi  \n",
            "5077           Akash Kumar  \n",
            "11704              Unknown  \n",
            "14222         Rakhi Mansha  \n",
            "5125       Raj Singh Verma  \n",
            "8344         Amitabh Gupta  \n",
            "13231          Chaho Bhara  \n"
          ]
        }
      ]
    },
    {
      "cell_type": "code",
      "source": [
        "# Number of popular movies released each year.\n",
        "\n",
        "popular_movies_by_year = df[df['Votes'] > df['Votes'].mean()]\n",
        "popular_movies_count_by_year = popular_movies_by_year.groupby('Year')['Name'].count().reset_index()\n",
        "popular_movies_count_by_year.columns = ['Year', 'Number of Popular Movies']\n",
        "\n",
        "print(\"\\nNumber of popular movies released each year:\")\n",
        "print(popular_movies_count_by_year)\n"
      ],
      "metadata": {
        "colab": {
          "base_uri": "https://localhost:8080/"
        },
        "id": "_V2HHx-SNly1",
        "outputId": "829d055f-cd0c-411a-a268-27e5db41e3a9"
      },
      "execution_count": 512,
      "outputs": [
        {
          "output_type": "stream",
          "name": "stdout",
          "text": [
            "\n",
            "Number of popular movies released each year:\n",
            "      Year  Number of Popular Movies\n",
            "0   1951.0                         1\n",
            "1   1955.0                         1\n",
            "2   1957.0                         2\n",
            "3   1959.0                         1\n",
            "4   1965.0                         1\n",
            "5   1968.0                         1\n",
            "6   1970.0                         1\n",
            "7   1971.0                         1\n",
            "8   1972.0                         1\n",
            "9   1973.0                         1\n",
            "10  1975.0                         3\n",
            "11  1976.0                         2\n",
            "12  1977.0                         2\n",
            "13  1978.0                         2\n",
            "14  1979.0                         2\n",
            "15  1980.0                         2\n",
            "16  1981.0                         3\n",
            "17  1982.0                         4\n",
            "18  1983.0                         4\n",
            "19  1984.0                         1\n",
            "20  1987.0                         1\n",
            "21  1988.0                         3\n",
            "22  1989.0                         4\n",
            "23  1990.0                         3\n",
            "24  1991.0                         5\n",
            "25  1992.0                         4\n",
            "26  1993.0                         6\n",
            "27  1994.0                        10\n",
            "28  1995.0                        10\n",
            "29  1996.0                         8\n",
            "30  1997.0                        14\n",
            "31  1998.0                        14\n",
            "32  1999.0                        15\n",
            "33  2000.0                        15\n",
            "34  2001.0                        20\n",
            "35  2002.0                        17\n",
            "36  2003.0                        25\n",
            "37  2004.0                        22\n",
            "38  2005.0                        27\n",
            "39  2006.0                        24\n",
            "40  2007.0                        36\n",
            "41  2008.0                        38\n",
            "42  2009.0                        31\n",
            "43  2010.0                        40\n",
            "44  2011.0                        39\n",
            "45  2012.0                        44\n",
            "46  2013.0                        50\n",
            "47  2014.0                        46\n",
            "48  2015.0                        47\n",
            "49  2016.0                        55\n",
            "50  2017.0                        50\n",
            "51  2018.0                        52\n",
            "52  2019.0                        53\n",
            "53  2020.0                        51\n",
            "54  2021.0                        17\n"
          ]
        }
      ]
    },
    {
      "cell_type": "code",
      "source": [
        "# Counting the number of votes which movies performed better in rating per year\n",
        "high_rated_movies_by_year = df[df['Rating'] >= 8.0]\n",
        "high_rated_movies_count_by_year = high_rated_movies_by_year.groupby('Year')['Votes'].sum().reset_index()\n",
        "high_rated_movies_count_by_year.columns = ['Year', 'Total Votes for High Rated Movies']\n",
        "\n",
        "print(\"\\nTotal votes for high rated movies (Rating >= 8.0) per year:\")\n",
        "print(high_rated_movies_count_by_year)\n",
        "\n",
        "# Counting the number of votes which movies performed better in rating overall\n",
        "high_rated_movies_overall = df[df['Rating'] >= 8.0]\n",
        "total_votes_high_rated_overall = high_rated_movies_overall['Votes'].sum()\n",
        "\n",
        "print(f\"\\nTotal votes for high rated movies (Rating >= 8.0) overall: {total_votes_high_rated_overall}\")\n"
      ],
      "metadata": {
        "colab": {
          "base_uri": "https://localhost:8080/"
        },
        "id": "p7mzDQsANq9H",
        "outputId": "5c090736-2910-40cf-bf80-e5673570af0b"
      },
      "execution_count": 513,
      "outputs": [
        {
          "output_type": "stream",
          "name": "stdout",
          "text": [
            "\n",
            "Total votes for high rated movies (Rating >= 8.0) per year:\n",
            "      Year  Total Votes for High Rated Movies\n",
            "0   1934.0                                6.0\n",
            "1   1943.0                               17.0\n",
            "2   1946.0                               14.0\n",
            "3   1947.0                                9.0\n",
            "4   1948.0                               39.0\n",
            "..     ...                                ...\n",
            "66  2017.0                            16683.0\n",
            "67  2018.0                           201462.0\n",
            "68  2019.0                           151865.0\n",
            "69  2020.0                            89425.0\n",
            "70  2021.0                             8304.0\n",
            "\n",
            "[71 rows x 2 columns]\n",
            "\n",
            "Total votes for high rated movies (Rating >= 8.0) overall: 4220735.0\n"
          ]
        }
      ]
    },
    {
      "cell_type": "code",
      "source": [
        "# Finding the row with the highest number of votes\n",
        "max_votes_row = df[df['Votes'] == df['Votes'].max()]\n",
        "\n",
        "# Get the name of the movie with the highest votes\n",
        "movie_highest_votes = max_votes_row['Name'].values[0]\n",
        "\n",
        "# Find the number of votes for the movie with the highest votes\n",
        "votes_highest_votes = max_votes_row['Votes'].values[0]\n",
        "\n",
        "print(\"Movie with the highest votes:\", movie_highest_votes)\n",
        "print(\"Number of votes for the movie with the highest votes:\", votes_highest_votes)"
      ],
      "metadata": {
        "id": "ijsqmQ0Dj43u",
        "colab": {
          "base_uri": "https://localhost:8080/"
        },
        "outputId": "79cca122-4c2a-4467-f669-35fe2bc706f5"
      },
      "execution_count": 514,
      "outputs": [
        {
          "output_type": "stream",
          "name": "stdout",
          "text": [
            "Movie with the highest votes: Life of Pi\n",
            "Number of votes for the movie with the highest votes: 591417.0\n"
          ]
        }
      ]
    },
    {
      "cell_type": "code",
      "source": [
        "# Finding the row with the lowest number of votes\n",
        "min_votes_row = df[df['Votes'] == df['Votes'].min()]\n",
        "\n",
        "# Name of the movie with the lowest votes\n",
        "movie_lowest_votes = min_votes_row['Name'].values[0]\n",
        "\n",
        "# Number of votes for the movie with the lowest votes\n",
        "votes_lowest_votes = min_votes_row['Votes'].values[0]\n",
        "\n",
        "print(\"Movie with the lowest votes:\", movie_lowest_votes)\n",
        "print(\"Number of votes for the movie with the lowest votes:\", votes_lowest_votes)"
      ],
      "metadata": {
        "id": "0CtrbTbAkTYT",
        "colab": {
          "base_uri": "https://localhost:8080/"
        },
        "outputId": "2a053283-dbc1-46e6-9d97-d6878ff52268"
      },
      "execution_count": 515,
      "outputs": [
        {
          "output_type": "stream",
          "name": "stdout",
          "text": [
            "Movie with the lowest votes: 25th July\n",
            "Number of votes for the movie with the lowest votes: 5.0\n"
          ]
        }
      ]
    },
    {
      "cell_type": "code",
      "source": [
        "# Finding the row with the highest rating\n",
        "max_rating_row = df[df['Rating'] == df['Rating'].max()]\n",
        "movie_highest_rating = max_rating_row['Name'].values[0]\n",
        "votes_highest_rating = max_rating_row['Votes'].values[0]\n",
        "\n",
        "print(\"Movie with the highest rating:\", movie_highest_rating)\n",
        "print(\"Number of votes for the movie with the highest rating:\", votes_highest_rating)"
      ],
      "metadata": {
        "colab": {
          "base_uri": "https://localhost:8080/"
        },
        "id": "pGuF2wNkAyo6",
        "outputId": "894439a9-d475-4d76-e101-5fd2085802c4"
      },
      "execution_count": 516,
      "outputs": [
        {
          "output_type": "stream",
          "name": "stdout",
          "text": [
            "Movie with the highest rating: Love Qubool Hai\n",
            "Number of votes for the movie with the highest rating: 5.0\n"
          ]
        }
      ]
    },
    {
      "cell_type": "code",
      "source": [
        "# Finding the row with the lowest rating\n",
        "min_rating_row = df[df['Rating'] == df['Rating'].min()]\n",
        "movie_lowest_rating = min_rating_row['Name'].values[0]\n",
        "votes_lowest_rating = min_rating_row['Votes'].values[0]\n",
        "\n",
        "print(\"Movie with the lowest rating:\", movie_lowest_rating)\n",
        "print(\"Number of votes for the movie with the lowest rating:\", votes_lowest_rating)"
      ],
      "metadata": {
        "colab": {
          "base_uri": "https://localhost:8080/"
        },
        "id": "lPWws8quA6N3",
        "outputId": "b1721b3f-27f7-4fbb-ca5e-0a5f6c12b0ae"
      },
      "execution_count": 517,
      "outputs": [
        {
          "output_type": "stream",
          "name": "stdout",
          "text": [
            "Movie with the lowest rating: Sadak 2\n",
            "Number of votes for the movie with the lowest rating: 67785.0\n"
          ]
        }
      ]
    },
    {
      "cell_type": "code",
      "source": [
        "# Grouping the dataset by the 'Director' column and counting the number of movies each director has directed\n",
        "director_counts = df['Director'].value_counts()\n",
        "\n",
        "# Finding the director with the highest number of movies directed\n",
        "most_prolific_director = director_counts.idxmax()\n",
        "num_movies_directed = director_counts.max()\n",
        "\n",
        "print(\"Director with the most movies directed:\", most_prolific_director)\n",
        "print(\"Number of movies directed by\", most_prolific_director, \":\", num_movies_directed)"
      ],
      "metadata": {
        "colab": {
          "base_uri": "https://localhost:8080/"
        },
        "id": "3zZpVSUzBIQM",
        "outputId": "11c6880f-8e5d-475a-d975-fc269d62534d"
      },
      "execution_count": 518,
      "outputs": [
        {
          "output_type": "stream",
          "name": "stdout",
          "text": [
            "Director with the most movies directed: Hrishikesh Mukherjee\n",
            "Number of movies directed by Hrishikesh Mukherjee : 41\n"
          ]
        }
      ]
    },
    {
      "cell_type": "code",
      "source": [
        "# Grouping the dataset by the 'Director' column and counting the number of movies each director has directed\n",
        "director_counts = df['Director'].value_counts()\n",
        "\n",
        "# Finding the director with the lowest number of movies directed\n",
        "least_prolific_director = director_counts.idxmin()\n",
        "num_movies_directed = director_counts.min()\n",
        "\n",
        "print(\"Director with the least movies directed:\", least_prolific_director)\n",
        "print(\"Number of movies directed by\", most_prolific_director, \":\", num_movies_directed)"
      ],
      "metadata": {
        "colab": {
          "base_uri": "https://localhost:8080/"
        },
        "id": "1r1VMyukBbPQ",
        "outputId": "63573656-a663-4edc-9da5-94bc89f1c1fe"
      },
      "execution_count": 519,
      "outputs": [
        {
          "output_type": "stream",
          "name": "stdout",
          "text": [
            "Director with the least movies directed: Sumitra Bhave\n",
            "Number of movies directed by Hrishikesh Mukherjee : 1\n"
          ]
        }
      ]
    },
    {
      "cell_type": "code",
      "execution_count": 520,
      "metadata": {
        "id": "oLU7-e1ra7OT"
      },
      "outputs": [],
      "source": [
        "#Creating some new features\n",
        "genre_mean_rating = df.groupby('Genre')['Rating'].transform('mean')\n",
        "df['Genre_mean_rating'] = genre_mean_rating\n",
        "\n",
        "director_mean_rating = df.groupby('Director')['Rating'].transform('mean')\n",
        "df['Director_encoded'] = director_mean_rating\n",
        "\n",
        "actor1_mean_rating = df.groupby('Actor 1')['Rating'].transform('mean')\n",
        "df['Actor1_encoded'] = actor1_mean_rating\n",
        "\n",
        "actor2_mean_rating = df.groupby('Actor 2')['Rating'].transform('mean')\n",
        "df['Actor2_encoded'] = actor2_mean_rating\n",
        "\n",
        "actor3_mean_rating = df.groupby('Actor 3')['Rating'].transform('mean')\n",
        "df['Actor3_encoded'] = actor3_mean_rating"
      ]
    },
    {
      "cell_type": "code",
      "execution_count": 521,
      "metadata": {
        "colab": {
          "base_uri": "https://localhost:8080/",
          "height": 206
        },
        "id": "8BckOqz-bCYj",
        "outputId": "42e2f432-5bfc-4fff-f7a7-47ccef6db1af"
      },
      "outputs": [
        {
          "output_type": "execute_result",
          "data": {
            "text/plain": [
              "                       Genre        Director  Actor1_encoded  Actor2_encoded  \\\n",
              "1                      Drama   Gaurav Bakshi        6.850000        7.000000   \n",
              "3            Comedy, Romance      Ovais Khan        5.420000        4.400000   \n",
              "5     Comedy, Drama, Musical    Rahul Rawail        4.885714        5.814286   \n",
              "6        Drama, Romance, War  Shoojit Sircar        5.278261        6.050000   \n",
              "8  Horror, Mystery, Thriller   Allyson Patel        5.600000        5.883333   \n",
              "\n",
              "   Actor3_encoded  Rating  \n",
              "1            7.00     7.0  \n",
              "3            4.45     4.4  \n",
              "5            5.95     4.7  \n",
              "6            6.50     7.4  \n",
              "8            5.60     5.6  "
            ],
            "text/html": [
              "\n",
              "  <div id=\"df-1aed16e7-28fd-41dc-be37-34fd57d9d576\" class=\"colab-df-container\">\n",
              "    <div>\n",
              "<style scoped>\n",
              "    .dataframe tbody tr th:only-of-type {\n",
              "        vertical-align: middle;\n",
              "    }\n",
              "\n",
              "    .dataframe tbody tr th {\n",
              "        vertical-align: top;\n",
              "    }\n",
              "\n",
              "    .dataframe thead th {\n",
              "        text-align: right;\n",
              "    }\n",
              "</style>\n",
              "<table border=\"1\" class=\"dataframe\">\n",
              "  <thead>\n",
              "    <tr style=\"text-align: right;\">\n",
              "      <th></th>\n",
              "      <th>Genre</th>\n",
              "      <th>Director</th>\n",
              "      <th>Actor1_encoded</th>\n",
              "      <th>Actor2_encoded</th>\n",
              "      <th>Actor3_encoded</th>\n",
              "      <th>Rating</th>\n",
              "    </tr>\n",
              "  </thead>\n",
              "  <tbody>\n",
              "    <tr>\n",
              "      <th>1</th>\n",
              "      <td>Drama</td>\n",
              "      <td>Gaurav Bakshi</td>\n",
              "      <td>6.850000</td>\n",
              "      <td>7.000000</td>\n",
              "      <td>7.00</td>\n",
              "      <td>7.0</td>\n",
              "    </tr>\n",
              "    <tr>\n",
              "      <th>3</th>\n",
              "      <td>Comedy, Romance</td>\n",
              "      <td>Ovais Khan</td>\n",
              "      <td>5.420000</td>\n",
              "      <td>4.400000</td>\n",
              "      <td>4.45</td>\n",
              "      <td>4.4</td>\n",
              "    </tr>\n",
              "    <tr>\n",
              "      <th>5</th>\n",
              "      <td>Comedy, Drama, Musical</td>\n",
              "      <td>Rahul Rawail</td>\n",
              "      <td>4.885714</td>\n",
              "      <td>5.814286</td>\n",
              "      <td>5.95</td>\n",
              "      <td>4.7</td>\n",
              "    </tr>\n",
              "    <tr>\n",
              "      <th>6</th>\n",
              "      <td>Drama, Romance, War</td>\n",
              "      <td>Shoojit Sircar</td>\n",
              "      <td>5.278261</td>\n",
              "      <td>6.050000</td>\n",
              "      <td>6.50</td>\n",
              "      <td>7.4</td>\n",
              "    </tr>\n",
              "    <tr>\n",
              "      <th>8</th>\n",
              "      <td>Horror, Mystery, Thriller</td>\n",
              "      <td>Allyson Patel</td>\n",
              "      <td>5.600000</td>\n",
              "      <td>5.883333</td>\n",
              "      <td>5.60</td>\n",
              "      <td>5.6</td>\n",
              "    </tr>\n",
              "  </tbody>\n",
              "</table>\n",
              "</div>\n",
              "    <div class=\"colab-df-buttons\">\n",
              "\n",
              "  <div class=\"colab-df-container\">\n",
              "    <button class=\"colab-df-convert\" onclick=\"convertToInteractive('df-1aed16e7-28fd-41dc-be37-34fd57d9d576')\"\n",
              "            title=\"Convert this dataframe to an interactive table.\"\n",
              "            style=\"display:none;\">\n",
              "\n",
              "  <svg xmlns=\"http://www.w3.org/2000/svg\" height=\"24px\" viewBox=\"0 -960 960 960\">\n",
              "    <path d=\"M120-120v-720h720v720H120Zm60-500h600v-160H180v160Zm220 220h160v-160H400v160Zm0 220h160v-160H400v160ZM180-400h160v-160H180v160Zm440 0h160v-160H620v160ZM180-180h160v-160H180v160Zm440 0h160v-160H620v160Z\"/>\n",
              "  </svg>\n",
              "    </button>\n",
              "\n",
              "  <style>\n",
              "    .colab-df-container {\n",
              "      display:flex;\n",
              "      gap: 12px;\n",
              "    }\n",
              "\n",
              "    .colab-df-convert {\n",
              "      background-color: #E8F0FE;\n",
              "      border: none;\n",
              "      border-radius: 50%;\n",
              "      cursor: pointer;\n",
              "      display: none;\n",
              "      fill: #1967D2;\n",
              "      height: 32px;\n",
              "      padding: 0 0 0 0;\n",
              "      width: 32px;\n",
              "    }\n",
              "\n",
              "    .colab-df-convert:hover {\n",
              "      background-color: #E2EBFA;\n",
              "      box-shadow: 0px 1px 2px rgba(60, 64, 67, 0.3), 0px 1px 3px 1px rgba(60, 64, 67, 0.15);\n",
              "      fill: #174EA6;\n",
              "    }\n",
              "\n",
              "    .colab-df-buttons div {\n",
              "      margin-bottom: 4px;\n",
              "    }\n",
              "\n",
              "    [theme=dark] .colab-df-convert {\n",
              "      background-color: #3B4455;\n",
              "      fill: #D2E3FC;\n",
              "    }\n",
              "\n",
              "    [theme=dark] .colab-df-convert:hover {\n",
              "      background-color: #434B5C;\n",
              "      box-shadow: 0px 1px 3px 1px rgba(0, 0, 0, 0.15);\n",
              "      filter: drop-shadow(0px 1px 2px rgba(0, 0, 0, 0.3));\n",
              "      fill: #FFFFFF;\n",
              "    }\n",
              "  </style>\n",
              "\n",
              "    <script>\n",
              "      const buttonEl =\n",
              "        document.querySelector('#df-1aed16e7-28fd-41dc-be37-34fd57d9d576 button.colab-df-convert');\n",
              "      buttonEl.style.display =\n",
              "        google.colab.kernel.accessAllowed ? 'block' : 'none';\n",
              "\n",
              "      async function convertToInteractive(key) {\n",
              "        const element = document.querySelector('#df-1aed16e7-28fd-41dc-be37-34fd57d9d576');\n",
              "        const dataTable =\n",
              "          await google.colab.kernel.invokeFunction('convertToInteractive',\n",
              "                                                    [key], {});\n",
              "        if (!dataTable) return;\n",
              "\n",
              "        const docLinkHtml = 'Like what you see? Visit the ' +\n",
              "          '<a target=\"_blank\" href=https://colab.research.google.com/notebooks/data_table.ipynb>data table notebook</a>'\n",
              "          + ' to learn more about interactive tables.';\n",
              "        element.innerHTML = '';\n",
              "        dataTable['output_type'] = 'display_data';\n",
              "        await google.colab.output.renderOutput(dataTable, element);\n",
              "        const docLink = document.createElement('div');\n",
              "        docLink.innerHTML = docLinkHtml;\n",
              "        element.appendChild(docLink);\n",
              "      }\n",
              "    </script>\n",
              "  </div>\n",
              "\n",
              "\n",
              "<div id=\"df-59bd9a88-23d8-48c0-b538-3bf74407a7dc\">\n",
              "  <button class=\"colab-df-quickchart\" onclick=\"quickchart('df-59bd9a88-23d8-48c0-b538-3bf74407a7dc')\"\n",
              "            title=\"Suggest charts\"\n",
              "            style=\"display:none;\">\n",
              "\n",
              "<svg xmlns=\"http://www.w3.org/2000/svg\" height=\"24px\"viewBox=\"0 0 24 24\"\n",
              "     width=\"24px\">\n",
              "    <g>\n",
              "        <path d=\"M19 3H5c-1.1 0-2 .9-2 2v14c0 1.1.9 2 2 2h14c1.1 0 2-.9 2-2V5c0-1.1-.9-2-2-2zM9 17H7v-7h2v7zm4 0h-2V7h2v10zm4 0h-2v-4h2v4z\"/>\n",
              "    </g>\n",
              "</svg>\n",
              "  </button>\n",
              "\n",
              "<style>\n",
              "  .colab-df-quickchart {\n",
              "      --bg-color: #E8F0FE;\n",
              "      --fill-color: #1967D2;\n",
              "      --hover-bg-color: #E2EBFA;\n",
              "      --hover-fill-color: #174EA6;\n",
              "      --disabled-fill-color: #AAA;\n",
              "      --disabled-bg-color: #DDD;\n",
              "  }\n",
              "\n",
              "  [theme=dark] .colab-df-quickchart {\n",
              "      --bg-color: #3B4455;\n",
              "      --fill-color: #D2E3FC;\n",
              "      --hover-bg-color: #434B5C;\n",
              "      --hover-fill-color: #FFFFFF;\n",
              "      --disabled-bg-color: #3B4455;\n",
              "      --disabled-fill-color: #666;\n",
              "  }\n",
              "\n",
              "  .colab-df-quickchart {\n",
              "    background-color: var(--bg-color);\n",
              "    border: none;\n",
              "    border-radius: 50%;\n",
              "    cursor: pointer;\n",
              "    display: none;\n",
              "    fill: var(--fill-color);\n",
              "    height: 32px;\n",
              "    padding: 0;\n",
              "    width: 32px;\n",
              "  }\n",
              "\n",
              "  .colab-df-quickchart:hover {\n",
              "    background-color: var(--hover-bg-color);\n",
              "    box-shadow: 0 1px 2px rgba(60, 64, 67, 0.3), 0 1px 3px 1px rgba(60, 64, 67, 0.15);\n",
              "    fill: var(--button-hover-fill-color);\n",
              "  }\n",
              "\n",
              "  .colab-df-quickchart-complete:disabled,\n",
              "  .colab-df-quickchart-complete:disabled:hover {\n",
              "    background-color: var(--disabled-bg-color);\n",
              "    fill: var(--disabled-fill-color);\n",
              "    box-shadow: none;\n",
              "  }\n",
              "\n",
              "  .colab-df-spinner {\n",
              "    border: 2px solid var(--fill-color);\n",
              "    border-color: transparent;\n",
              "    border-bottom-color: var(--fill-color);\n",
              "    animation:\n",
              "      spin 1s steps(1) infinite;\n",
              "  }\n",
              "\n",
              "  @keyframes spin {\n",
              "    0% {\n",
              "      border-color: transparent;\n",
              "      border-bottom-color: var(--fill-color);\n",
              "      border-left-color: var(--fill-color);\n",
              "    }\n",
              "    20% {\n",
              "      border-color: transparent;\n",
              "      border-left-color: var(--fill-color);\n",
              "      border-top-color: var(--fill-color);\n",
              "    }\n",
              "    30% {\n",
              "      border-color: transparent;\n",
              "      border-left-color: var(--fill-color);\n",
              "      border-top-color: var(--fill-color);\n",
              "      border-right-color: var(--fill-color);\n",
              "    }\n",
              "    40% {\n",
              "      border-color: transparent;\n",
              "      border-right-color: var(--fill-color);\n",
              "      border-top-color: var(--fill-color);\n",
              "    }\n",
              "    60% {\n",
              "      border-color: transparent;\n",
              "      border-right-color: var(--fill-color);\n",
              "    }\n",
              "    80% {\n",
              "      border-color: transparent;\n",
              "      border-right-color: var(--fill-color);\n",
              "      border-bottom-color: var(--fill-color);\n",
              "    }\n",
              "    90% {\n",
              "      border-color: transparent;\n",
              "      border-bottom-color: var(--fill-color);\n",
              "    }\n",
              "  }\n",
              "</style>\n",
              "\n",
              "  <script>\n",
              "    async function quickchart(key) {\n",
              "      const quickchartButtonEl =\n",
              "        document.querySelector('#' + key + ' button');\n",
              "      quickchartButtonEl.disabled = true;  // To prevent multiple clicks.\n",
              "      quickchartButtonEl.classList.add('colab-df-spinner');\n",
              "      try {\n",
              "        const charts = await google.colab.kernel.invokeFunction(\n",
              "            'suggestCharts', [key], {});\n",
              "      } catch (error) {\n",
              "        console.error('Error during call to suggestCharts:', error);\n",
              "      }\n",
              "      quickchartButtonEl.classList.remove('colab-df-spinner');\n",
              "      quickchartButtonEl.classList.add('colab-df-quickchart-complete');\n",
              "    }\n",
              "    (() => {\n",
              "      let quickchartButtonEl =\n",
              "        document.querySelector('#df-59bd9a88-23d8-48c0-b538-3bf74407a7dc button');\n",
              "      quickchartButtonEl.style.display =\n",
              "        google.colab.kernel.accessAllowed ? 'block' : 'none';\n",
              "    })();\n",
              "  </script>\n",
              "</div>\n",
              "\n",
              "    </div>\n",
              "  </div>\n"
            ],
            "application/vnd.google.colaboratory.intrinsic+json": {
              "type": "dataframe",
              "summary": "{\n  \"name\": \"df[['Genre', 'Director', 'Actor1_encoded', 'Actor2_encoded', 'Actor3_encoded','Rating']]\",\n  \"rows\": 5,\n  \"fields\": [\n    {\n      \"column\": \"Genre\",\n      \"properties\": {\n        \"dtype\": \"string\",\n        \"num_unique_values\": 5,\n        \"samples\": [\n          \"Comedy, Romance\",\n          \"Horror, Mystery, Thriller\",\n          \"Comedy, Drama, Musical\"\n        ],\n        \"semantic_type\": \"\",\n        \"description\": \"\"\n      }\n    },\n    {\n      \"column\": \"Director\",\n      \"properties\": {\n        \"dtype\": \"string\",\n        \"num_unique_values\": 5,\n        \"samples\": [\n          \"Ovais Khan\",\n          \"Allyson Patel\",\n          \"Rahul Rawail\"\n        ],\n        \"semantic_type\": \"\",\n        \"description\": \"\"\n      }\n    },\n    {\n      \"column\": \"Actor1_encoded\",\n      \"properties\": {\n        \"dtype\": \"number\",\n        \"std\": 0.7430325173655471,\n        \"min\": 4.885714285714286,\n        \"max\": 6.85,\n        \"num_unique_values\": 5,\n        \"samples\": [\n          5.42,\n          5.6,\n          4.885714285714286\n        ],\n        \"semantic_type\": \"\",\n        \"description\": \"\"\n      }\n    },\n    {\n      \"column\": \"Actor2_encoded\",\n      \"properties\": {\n        \"dtype\": \"number\",\n        \"std\": 0.9307645042427629,\n        \"min\": 4.4,\n        \"max\": 7.0,\n        \"num_unique_values\": 5,\n        \"samples\": [\n          4.4,\n          5.883333333333333,\n          5.814285714285715\n        ],\n        \"semantic_type\": \"\",\n        \"description\": \"\"\n      }\n    },\n    {\n      \"column\": \"Actor3_encoded\",\n      \"properties\": {\n        \"dtype\": \"number\",\n        \"std\": 0.9701803955966127,\n        \"min\": 4.45,\n        \"max\": 7.0,\n        \"num_unique_values\": 5,\n        \"samples\": [\n          4.45,\n          5.6,\n          5.95\n        ],\n        \"semantic_type\": \"\",\n        \"description\": \"\"\n      }\n    },\n    {\n      \"column\": \"Rating\",\n      \"properties\": {\n        \"dtype\": \"number\",\n        \"std\": 1.3423859355639867,\n        \"min\": 4.4,\n        \"max\": 7.4,\n        \"num_unique_values\": 5,\n        \"samples\": [\n          4.4,\n          5.6,\n          4.7\n        ],\n        \"semantic_type\": \"\",\n        \"description\": \"\"\n      }\n    }\n  ]\n}"
            }
          },
          "metadata": {},
          "execution_count": 521
        }
      ],
      "source": [
        "# The first few rows after feature engineering\n",
        "df[['Genre', 'Director', 'Actor1_encoded', 'Actor2_encoded', 'Actor3_encoded','Rating']].head()"
      ]
    },
    {
      "cell_type": "markdown",
      "metadata": {
        "id": "Bb9r7o07bK-O"
      },
      "source": [
        "**Exploratory Data Analysis (EDA)**"
      ]
    },
    {
      "cell_type": "code",
      "execution_count": 522,
      "metadata": {
        "id": "O3Va8jHDbKk7"
      },
      "outputs": [],
      "source": [
        "sns.set_style('darkgrid')"
      ]
    },
    {
      "cell_type": "code",
      "execution_count": 523,
      "metadata": {
        "colab": {
          "base_uri": "https://localhost:8080/",
          "height": 564
        },
        "id": "eZiMITNsbeXv",
        "outputId": "a71f8770-b45a-4eec-d298-e5c9039467d9"
      },
      "outputs": [
        {
          "output_type": "display_data",
          "data": {
            "text/plain": [
              "<Figure size 1000x600 with 1 Axes>"
            ],
            "image/png": "[encoded data removed]"
          },
          "metadata": {}
        }
      ],
      "source": [
        "# Distribution of Ratings\n",
        "plt.figure(figsize=(10, 6))\n",
        "sns.histplot(df['Rating'], bins=20, kde=True)\n",
        "plt.title('Distribution of Ratings')\n",
        "plt.xlabel('Rating')\n",
        "plt.ylabel('Frequency')\n",
        "plt.show()"
      ]
    },
    {
      "cell_type": "code",
      "execution_count": 524,
      "metadata": {
        "colab": {
          "base_uri": "https://localhost:8080/",
          "height": 564
        },
        "id": "xkAKOWoubkwO",
        "outputId": "79a48b2d-42ee-48dc-9f91-ae0a978f8bc7"
      },
      "outputs": [
        {
          "output_type": "display_data",
          "data": {
            "text/plain": [
              "<Figure size 1000x600 with 1 Axes>"
            ],
            "image/png": "[encoded data removed]"
          },
          "metadata": {}
        }
      ],
      "source": [
        "# Distribution of Movie Durations\n",
        "plt.figure(figsize=(10, 6))\n",
        "sns.histplot(df['Duration'].dropna(), bins=20, kde=True)\n",
        "plt.title('Distribution of Movie Durations')\n",
        "plt.xlabel('Duration (minutes)')\n",
        "plt.ylabel('Frequency')\n",
        "plt.show()"
      ]
    },
    {
      "cell_type": "code",
      "execution_count": 525,
      "metadata": {
        "colab": {
          "base_uri": "https://localhost:8080/",
          "height": 622
        },
        "id": "lkluMLvtbp_5",
        "outputId": "2e89d9a2-2ac9-4510-956a-32ac11ef324a"
      },
      "outputs": [
        {
          "output_type": "display_data",
          "data": {
            "text/plain": [
              "<Figure size 1000x600 with 1 Axes>"
            ],
            "image/png": "[encoded data removed]"
          },
          "metadata": {}
        }
      ],
      "source": [
        "# Top Genres\n",
        "plt.figure(figsize=(10, 6))\n",
        "genres = df['Genre'].str.split(', ', expand=True).stack().value_counts()\n",
        "genres[:10].plot(kind='bar')\n",
        "plt.title('Top 10 Genres')\n",
        "plt.xlabel('Genre')\n",
        "plt.ylabel('Number of Movies')\n",
        "plt.show()"
      ]
    },
    {
      "cell_type": "code",
      "execution_count": 526,
      "metadata": {
        "colab": {
          "base_uri": "https://localhost:8080/",
          "height": 699
        },
        "id": "5QckHLaLbpXk",
        "outputId": "d0f5b9d7-0884-483e-b340-88cea9421ae3"
      },
      "outputs": [
        {
          "output_type": "display_data",
          "data": {
            "text/plain": [
              "<Figure size 1000x600 with 1 Axes>"
            ],
            "image/png": "[encoded data removed]"
          },
          "metadata": {}
        }
      ],
      "source": [
        "# Top Directors\n",
        "plt.figure(figsize=(10, 6))\n",
        "directors = df['Director'].value_counts()\n",
        "directors[:10].plot(kind='bar')\n",
        "plt.title('Top 10 Directors')\n",
        "plt.xlabel('Director')\n",
        "plt.ylabel('Number of Movies')\n",
        "plt.show()"
      ]
    },
    {
      "cell_type": "code",
      "execution_count": 527,
      "metadata": {
        "colab": {
          "base_uri": "https://localhost:8080/",
          "height": 667
        },
        "id": "xwIBpH4ibpUN",
        "outputId": "a3cb4419-8606-408d-bb11-d6a6f1cabbaf"
      },
      "outputs": [
        {
          "output_type": "display_data",
          "data": {
            "text/plain": [
              "<Figure size 1000x600 with 2 Axes>"
            ],
            "image/png": "[encoded data removed]"
          },
          "metadata": {}
        }
      ],
      "source": [
        "# Correlation Matrix\n",
        "plt.figure(figsize=(10, 6))\n",
        "# Select only numeric columns for correlation calculation\n",
        "numeric_df = df.select_dtypes(include=['float', 'int'])\n",
        "corr = numeric_df.corr()\n",
        "sns.heatmap(corr, annot=True, cmap='coolwarm', vmin=-1, vmax=1)\n",
        "plt.title('Correlation Matrix')\n",
        "plt.show()"
      ]
    },
    {
      "cell_type": "code",
      "execution_count": 528,
      "metadata": {
        "id": "PIIIC0FubpJG"
      },
      "outputs": [],
      "source": [
        "# Defining features and target variable\n",
        "X = df[[ 'Year', 'Votes', 'Duration', 'Genre_mean_rating','Director_encoded','Actor1_encoded', 'Actor2_encoded', 'Actor3_encoded']] # Remove 'Genre' column\n",
        "y = df['Rating']"
      ]
    },
    {
      "cell_type": "code",
      "execution_count": 529,
      "metadata": {
        "id": "NrprRoGocgbU"
      },
      "outputs": [],
      "source": [
        "# Splitting the data into training and test sets\n",
        "X_train, X_test, y_train, y_test = train_test_split(X, y, test_size=0.2, random_state=42)\n"
      ]
    },
    {
      "cell_type": "code",
      "source": [
        "# Imputing missing values using SimpleImputer\n",
        "imputer = SimpleImputer(strategy='mean')\n",
        "X_train_imputed = imputer.fit_transform(X_train)\n",
        "X_test_imputed = imputer.transform(X_test)"
      ],
      "metadata": {
        "id": "8b6eKP99uEIS"
      },
      "execution_count": 530,
      "outputs": []
    },
    {
      "cell_type": "code",
      "source": [
        "# Building and training Linear Regression model\n",
        "l_r = LinearRegression()\n",
        "l_r.fit(X_train_imputed, y_train)\n",
        "l_r_pred = l_r.predict(X_test_imputed)"
      ],
      "metadata": {
        "id": "AItgmD0WtK1A"
      },
      "execution_count": 531,
      "outputs": []
    },
    {
      "cell_type": "code",
      "source": [
        "# Building and training RandomForestRegressor model\n",
        "r_f = RandomForestRegressor()\n",
        "r_f.fit(X_train_imputed, y_train)\n",
        "r_f_pred = r_f.predict(X_test_imputed)"
      ],
      "metadata": {
        "id": "fg3yqbbKt7jP"
      },
      "execution_count": 532,
      "outputs": []
    },
    {
      "cell_type": "code",
      "source": [
        "# Evaluating Linear Regression model\n",
        "print('The performance evaluation of Linear Regression is below:')\n",
        "print('Mean squared error:', mean_squared_error(y_test, l_r_pred))\n",
        "print('Mean absolute error:', mean_absolute_error(y_test, l_r_pred))\n",
        "print('R2 score:', r2_score(y_test, l_r_pred))"
      ],
      "metadata": {
        "colab": {
          "base_uri": "https://localhost:8080/"
        },
        "id": "DVoC4-FHujO3",
        "outputId": "bd0c3bf6-cb1f-4dd5-8414-b37a373b3d7f"
      },
      "execution_count": 533,
      "outputs": [
        {
          "output_type": "stream",
          "name": "stdout",
          "text": [
            "The performance evaluation of Linear Regression is below:\n",
            "Mean squared error: 0.46342283126395106\n",
            "Mean absolute error: 0.5049146071874404\n",
            "R2 score: 0.7668629725419769\n"
          ]
        }
      ]
    },
    {
      "cell_type": "code",
      "source": [
        "# Evaluating RandomForestRegressor model\n",
        "print('The performance evaluation of Random Forest Regressor is below:')\n",
        "print('Mean squared error:', mean_squared_error(y_test, r_f_pred))\n",
        "print('Mean absolute error:', mean_absolute_error(y_test, r_f_pred))\n",
        "print('R2 score:', r2_score(y_test, r_f_pred))"
      ],
      "metadata": {
        "colab": {
          "base_uri": "https://localhost:8080/"
        },
        "id": "TTDjeRgHuyS3",
        "outputId": "319508ca-a9e9-4bdc-f3ef-819f146601e6"
      },
      "execution_count": 534,
      "outputs": [
        {
          "output_type": "stream",
          "name": "stdout",
          "text": [
            "The performance evaluation of Random Forest Regressor is below:\n",
            "Mean squared error: 0.38479936135593207\n",
            "Mean absolute error: 0.41900338983050855\n",
            "R2 score: 0.8064165741908147\n"
          ]
        }
      ]
    },
    {
      "cell_type": "markdown",
      "source": [
        "**Testing Our Model**"
      ],
      "metadata": {
        "id": "0bVmmutHvF_p"
      }
    },
    {
      "cell_type": "code",
      "source": [
        "X.head()"
      ],
      "metadata": {
        "colab": {
          "base_uri": "https://localhost:8080/",
          "height": 206
        },
        "id": "FlQGyLW6wkIN",
        "outputId": "3afe8371-7ac8-4858-8116-56174f2506b2"
      },
      "execution_count": 535,
      "outputs": [
        {
          "output_type": "execute_result",
          "data": {
            "text/plain": [
              "     Year   Votes  Duration  Genre_mean_rating  Director_encoded  \\\n",
              "1  2019.0     8.0     109.0           6.365583          7.000000   \n",
              "3  2019.0    35.0     110.0           5.718261          4.400000   \n",
              "5  1997.0   827.0     147.0           6.171739          5.266667   \n",
              "6  2005.0  1086.0     142.0           7.350000          7.500000   \n",
              "8  2012.0   326.0      82.0           5.463636          5.600000   \n",
              "\n",
              "   Actor1_encoded  Actor2_encoded  Actor3_encoded  \n",
              "1        6.850000        7.000000            7.00  \n",
              "3        5.420000        4.400000            4.45  \n",
              "5        4.885714        5.814286            5.95  \n",
              "6        5.278261        6.050000            6.50  \n",
              "8        5.600000        5.883333            5.60  "
            ],
            "text/html": [
              "\n",
              "  <div id=\"df-e5374509-7353-413a-a813-69d1cb068658\" class=\"colab-df-container\">\n",
              "    <div>\n",
              "<style scoped>\n",
              "    .dataframe tbody tr th:only-of-type {\n",
              "        vertical-align: middle;\n",
              "    }\n",
              "\n",
              "    .dataframe tbody tr th {\n",
              "        vertical-align: top;\n",
              "    }\n",
              "\n",
              "    .dataframe thead th {\n",
              "        text-align: right;\n",
              "    }\n",
              "</style>\n",
              "<table border=\"1\" class=\"dataframe\">\n",
              "  <thead>\n",
              "    <tr style=\"text-align: right;\">\n",
              "      <th></th>\n",
              "      <th>Year</th>\n",
              "      <th>Votes</th>\n",
              "      <th>Duration</th>\n",
              "      <th>Genre_mean_rating</th>\n",
              "      <th>Director_encoded</th>\n",
              "      <th>Actor1_encoded</th>\n",
              "      <th>Actor2_encoded</th>\n",
              "      <th>Actor3_encoded</th>\n",
              "    </tr>\n",
              "  </thead>\n",
              "  <tbody>\n",
              "    <tr>\n",
              "      <th>1</th>\n",
              "      <td>2019.0</td>\n",
              "      <td>8.0</td>\n",
              "      <td>109.0</td>\n",
              "      <td>6.365583</td>\n",
              "      <td>7.000000</td>\n",
              "      <td>6.850000</td>\n",
              "      <td>7.000000</td>\n",
              "      <td>7.00</td>\n",
              "    </tr>\n",
              "    <tr>\n",
              "      <th>3</th>\n",
              "      <td>2019.0</td>\n",
              "      <td>35.0</td>\n",
              "      <td>110.0</td>\n",
              "      <td>5.718261</td>\n",
              "      <td>4.400000</td>\n",
              "      <td>5.420000</td>\n",
              "      <td>4.400000</td>\n",
              "      <td>4.45</td>\n",
              "    </tr>\n",
              "    <tr>\n",
              "      <th>5</th>\n",
              "      <td>1997.0</td>\n",
              "      <td>827.0</td>\n",
              "      <td>147.0</td>\n",
              "      <td>6.171739</td>\n",
              "      <td>5.266667</td>\n",
              "      <td>4.885714</td>\n",
              "      <td>5.814286</td>\n",
              "      <td>5.95</td>\n",
              "    </tr>\n",
              "    <tr>\n",
              "      <th>6</th>\n",
              "      <td>2005.0</td>\n",
              "      <td>1086.0</td>\n",
              "      <td>142.0</td>\n",
              "      <td>7.350000</td>\n",
              "      <td>7.500000</td>\n",
              "      <td>5.278261</td>\n",
              "      <td>6.050000</td>\n",
              "      <td>6.50</td>\n",
              "    </tr>\n",
              "    <tr>\n",
              "      <th>8</th>\n",
              "      <td>2012.0</td>\n",
              "      <td>326.0</td>\n",
              "      <td>82.0</td>\n",
              "      <td>5.463636</td>\n",
              "      <td>5.600000</td>\n",
              "      <td>5.600000</td>\n",
              "      <td>5.883333</td>\n",
              "      <td>5.60</td>\n",
              "    </tr>\n",
              "  </tbody>\n",
              "</table>\n",
              "</div>\n",
              "    <div class=\"colab-df-buttons\">\n",
              "\n",
              "  <div class=\"colab-df-container\">\n",
              "    <button class=\"colab-df-convert\" onclick=\"convertToInteractive('df-e5374509-7353-413a-a813-69d1cb068658')\"\n",
              "            title=\"Convert this dataframe to an interactive table.\"\n",
              "            style=\"display:none;\">\n",
              "\n",
              "  <svg xmlns=\"http://www.w3.org/2000/svg\" height=\"24px\" viewBox=\"0 -960 960 960\">\n",
              "    <path d=\"M120-120v-720h720v720H120Zm60-500h600v-160H180v160Zm220 220h160v-160H400v160Zm0 220h160v-160H400v160ZM180-400h160v-160H180v160Zm440 0h160v-160H620v160ZM180-180h160v-160H180v160Zm440 0h160v-160H620v160Z\"/>\n",
              "  </svg>\n",
              "    </button>\n",
              "\n",
              "  <style>\n",
              "    .colab-df-container {\n",
              "      display:flex;\n",
              "      gap: 12px;\n",
              "    }\n",
              "\n",
              "    .colab-df-convert {\n",
              "      background-color: #E8F0FE;\n",
              "      border: none;\n",
              "      border-radius: 50%;\n",
              "      cursor: pointer;\n",
              "      display: none;\n",
              "      fill: #1967D2;\n",
              "      height: 32px;\n",
              "      padding: 0 0 0 0;\n",
              "      width: 32px;\n",
              "    }\n",
              "\n",
              "    .colab-df-convert:hover {\n",
              "      background-color: #E2EBFA;\n",
              "      box-shadow: 0px 1px 2px rgba(60, 64, 67, 0.3), 0px 1px 3px 1px rgba(60, 64, 67, 0.15);\n",
              "      fill: #174EA6;\n",
              "    }\n",
              "\n",
              "    .colab-df-buttons div {\n",
              "      margin-bottom: 4px;\n",
              "    }\n",
              "\n",
              "    [theme=dark] .colab-df-convert {\n",
              "      background-color: #3B4455;\n",
              "      fill: #D2E3FC;\n",
              "    }\n",
              "\n",
              "    [theme=dark] .colab-df-convert:hover {\n",
              "      background-color: #434B5C;\n",
              "      box-shadow: 0px 1px 3px 1px rgba(0, 0, 0, 0.15);\n",
              "      filter: drop-shadow(0px 1px 2px rgba(0, 0, 0, 0.3));\n",
              "      fill: #FFFFFF;\n",
              "    }\n",
              "  </style>\n",
              "\n",
              "    <script>\n",
              "      const buttonEl =\n",
              "        document.querySelector('#df-e5374509-7353-413a-a813-69d1cb068658 button.colab-df-convert');\n",
              "      buttonEl.style.display =\n",
              "        google.colab.kernel.accessAllowed ? 'block' : 'none';\n",
              "\n",
              "      async function convertToInteractive(key) {\n",
              "        const element = document.querySelector('#df-e5374509-7353-413a-a813-69d1cb068658');\n",
              "        const dataTable =\n",
              "          await google.colab.kernel.invokeFunction('convertToInteractive',\n",
              "                                                    [key], {});\n",
              "        if (!dataTable) return;\n",
              "\n",
              "        const docLinkHtml = 'Like what you see? Visit the ' +\n",
              "          '<a target=\"_blank\" href=https://colab.research.google.com/notebooks/data_table.ipynb>data table notebook</a>'\n",
              "          + ' to learn more about interactive tables.';\n",
              "        element.innerHTML = '';\n",
              "        dataTable['output_type'] = 'display_data';\n",
              "        await google.colab.output.renderOutput(dataTable, element);\n",
              "        const docLink = document.createElement('div');\n",
              "        docLink.innerHTML = docLinkHtml;\n",
              "        element.appendChild(docLink);\n",
              "      }\n",
              "    </script>\n",
              "  </div>\n",
              "\n",
              "\n",
              "<div id=\"df-eaaae507-b26d-42d8-bf00-42cd8053f7b3\">\n",
              "  <button class=\"colab-df-quickchart\" onclick=\"quickchart('df-eaaae507-b26d-42d8-bf00-42cd8053f7b3')\"\n",
              "            title=\"Suggest charts\"\n",
              "            style=\"display:none;\">\n",
              "\n",
              "<svg xmlns=\"http://www.w3.org/2000/svg\" height=\"24px\"viewBox=\"0 0 24 24\"\n",
              "     width=\"24px\">\n",
              "    <g>\n",
              "        <path d=\"M19 3H5c-1.1 0-2 .9-2 2v14c0 1.1.9 2 2 2h14c1.1 0 2-.9 2-2V5c0-1.1-.9-2-2-2zM9 17H7v-7h2v7zm4 0h-2V7h2v10zm4 0h-2v-4h2v4z\"/>\n",
              "    </g>\n",
              "</svg>\n",
              "  </button>\n",
              "\n",
              "<style>\n",
              "  .colab-df-quickchart {\n",
              "      --bg-color: #E8F0FE;\n",
              "      --fill-color: #1967D2;\n",
              "      --hover-bg-color: #E2EBFA;\n",
              "      --hover-fill-color: #174EA6;\n",
              "      --disabled-fill-color: #AAA;\n",
              "      --disabled-bg-color: #DDD;\n",
              "  }\n",
              "\n",
              "  [theme=dark] .colab-df-quickchart {\n",
              "      --bg-color: #3B4455;\n",
              "      --fill-color: #D2E3FC;\n",
              "      --hover-bg-color: #434B5C;\n",
              "      --hover-fill-color: #FFFFFF;\n",
              "      --disabled-bg-color: #3B4455;\n",
              "      --disabled-fill-color: #666;\n",
              "  }\n",
              "\n",
              "  .colab-df-quickchart {\n",
              "    background-color: var(--bg-color);\n",
              "    border: none;\n",
              "    border-radius: 50%;\n",
              "    cursor: pointer;\n",
              "    display: none;\n",
              "    fill: var(--fill-color);\n",
              "    height: 32px;\n",
              "    padding: 0;\n",
              "    width: 32px;\n",
              "  }\n",
              "\n",
              "  .colab-df-quickchart:hover {\n",
              "    background-color: var(--hover-bg-color);\n",
              "    box-shadow: 0 1px 2px rgba(60, 64, 67, 0.3), 0 1px 3px 1px rgba(60, 64, 67, 0.15);\n",
              "    fill: var(--button-hover-fill-color);\n",
              "  }\n",
              "\n",
              "  .colab-df-quickchart-complete:disabled,\n",
              "  .colab-df-quickchart-complete:disabled:hover {\n",
              "    background-color: var(--disabled-bg-color);\n",
              "    fill: var(--disabled-fill-color);\n",
              "    box-shadow: none;\n",
              "  }\n",
              "\n",
              "  .colab-df-spinner {\n",
              "    border: 2px solid var(--fill-color);\n",
              "    border-color: transparent;\n",
              "    border-bottom-color: var(--fill-color);\n",
              "    animation:\n",
              "      spin 1s steps(1) infinite;\n",
              "  }\n",
              "\n",
              "  @keyframes spin {\n",
              "    0% {\n",
              "      border-color: transparent;\n",
              "      border-bottom-color: var(--fill-color);\n",
              "      border-left-color: var(--fill-color);\n",
              "    }\n",
              "    20% {\n",
              "      border-color: transparent;\n",
              "      border-left-color: var(--fill-color);\n",
              "      border-top-color: var(--fill-color);\n",
              "    }\n",
              "    30% {\n",
              "      border-color: transparent;\n",
              "      border-left-color: var(--fill-color);\n",
              "      border-top-color: var(--fill-color);\n",
              "      border-right-color: var(--fill-color);\n",
              "    }\n",
              "    40% {\n",
              "      border-color: transparent;\n",
              "      border-right-color: var(--fill-color);\n",
              "      border-top-color: var(--fill-color);\n",
              "    }\n",
              "    60% {\n",
              "      border-color: transparent;\n",
              "      border-right-color: var(--fill-color);\n",
              "    }\n",
              "    80% {\n",
              "      border-color: transparent;\n",
              "      border-right-color: var(--fill-color);\n",
              "      border-bottom-color: var(--fill-color);\n",
              "    }\n",
              "    90% {\n",
              "      border-color: transparent;\n",
              "      border-bottom-color: var(--fill-color);\n",
              "    }\n",
              "  }\n",
              "</style>\n",
              "\n",
              "  <script>\n",
              "    async function quickchart(key) {\n",
              "      const quickchartButtonEl =\n",
              "        document.querySelector('#' + key + ' button');\n",
              "      quickchartButtonEl.disabled = true;  // To prevent multiple clicks.\n",
              "      quickchartButtonEl.classList.add('colab-df-spinner');\n",
              "      try {\n",
              "        const charts = await google.colab.kernel.invokeFunction(\n",
              "            'suggestCharts', [key], {});\n",
              "      } catch (error) {\n",
              "        console.error('Error during call to suggestCharts:', error);\n",
              "      }\n",
              "      quickchartButtonEl.classList.remove('colab-df-spinner');\n",
              "      quickchartButtonEl.classList.add('colab-df-quickchart-complete');\n",
              "    }\n",
              "    (() => {\n",
              "      let quickchartButtonEl =\n",
              "        document.querySelector('#df-eaaae507-b26d-42d8-bf00-42cd8053f7b3 button');\n",
              "      quickchartButtonEl.style.display =\n",
              "        google.colab.kernel.accessAllowed ? 'block' : 'none';\n",
              "    })();\n",
              "  </script>\n",
              "</div>\n",
              "\n",
              "    </div>\n",
              "  </div>\n"
            ],
            "application/vnd.google.colaboratory.intrinsic+json": {
              "type": "dataframe",
              "variable_name": "X",
              "summary": "{\n  \"name\": \"X\",\n  \"rows\": 7372,\n  \"fields\": [\n    {\n      \"column\": \"Year\",\n      \"properties\": {\n        \"dtype\": \"number\",\n        \"std\": 20.384301601833954,\n        \"min\": 1917.0,\n        \"max\": 2021.0,\n        \"num_unique_values\": 92,\n        \"samples\": [\n          1968.0,\n          1979.0,\n          1971.0\n        ],\n        \"semantic_type\": \"\",\n        \"description\": \"\"\n      }\n    },\n    {\n      \"column\": \"Votes\",\n      \"properties\": {\n        \"dtype\": \"number\",\n        \"std\": 11930.781406120284,\n        \"min\": 5.0,\n        \"max\": 591417.0,\n        \"num_unique_values\": 1946,\n        \"samples\": [\n          215.0,\n          5924.0,\n          1351.0\n        ],\n        \"semantic_type\": \"\",\n        \"description\": \"\"\n      }\n    },\n    {\n      \"column\": \"Duration\",\n      \"properties\": {\n        \"dtype\": \"number\",\n        \"std\": 26.769534556731664,\n        \"min\": 21.0,\n        \"max\": 321.0,\n        \"num_unique_values\": 178,\n        \"samples\": [\n          124.0,\n          134.0,\n          191.0\n        ],\n        \"semantic_type\": \"\",\n        \"description\": \"\"\n      }\n    },\n    {\n      \"column\": \"Genre_mean_rating\",\n      \"properties\": {\n        \"dtype\": \"number\",\n        \"std\": 0.5978003821260295,\n        \"min\": 2.4,\n        \"max\": 9.4,\n        \"num_unique_values\": 245,\n        \"samples\": [\n          4.6,\n          4.608196721311476,\n          7.45\n        ],\n        \"semantic_type\": \"\",\n        \"description\": \"\"\n      }\n    },\n    {\n      \"column\": \"Director_encoded\",\n      \"properties\": {\n        \"dtype\": \"number\",\n        \"std\": 1.1082179116170328,\n        \"min\": 1.6,\n        \"max\": 10.0,\n        \"num_unique_values\": 528,\n        \"samples\": [\n          6.744444444444444,\n          5.433333333333333,\n          6.2\n        ],\n        \"semantic_type\": \"\",\n        \"description\": \"\"\n      }\n    },\n    {\n      \"column\": \"Actor1_encoded\",\n      \"properties\": {\n        \"dtype\": \"number\",\n        \"std\": 1.0290493112176657,\n        \"min\": 1.4,\n        \"max\": 10.0,\n        \"num_unique_values\": 443,\n        \"samples\": [\n          6.14,\n          7.7,\n          5.44025974025974\n        ],\n        \"semantic_type\": \"\",\n        \"description\": \"\"\n      }\n    },\n    {\n      \"column\": \"Actor2_encoded\",\n      \"properties\": {\n        \"dtype\": \"number\",\n        \"std\": 1.0272232483399577,\n        \"min\": 1.6,\n        \"max\": 10.0,\n        \"num_unique_values\": 495,\n        \"samples\": [\n          7.550000000000001,\n          5.24,\n          6.133333333333333\n        ],\n        \"semantic_type\": \"\",\n        \"description\": \"\"\n      }\n    },\n    {\n      \"column\": \"Actor3_encoded\",\n      \"properties\": {\n        \"dtype\": \"number\",\n        \"std\": 1.032016460932321,\n        \"min\": 1.7,\n        \"max\": 10.0,\n        \"num_unique_values\": 487,\n        \"samples\": [\n          3.0,\n          5.485714285714286,\n          4.62\n        ],\n        \"semantic_type\": \"\",\n        \"description\": \"\"\n      }\n    }\n  ]\n}"
            }
          },
          "metadata": {},
          "execution_count": 535
        }
      ]
    },
    {
      "cell_type": "code",
      "source": [
        "row_index = X[(X['Year'] == 1985) & (X['Votes'] == 557) & (X['Duration'] == 120)].index[0]\n",
        "print(X.loc[row_index])"
      ],
      "metadata": {
        "colab": {
          "base_uri": "https://localhost:8080/"
        },
        "id": "AVfGi7ijxPm7",
        "outputId": "053b6c63-8d7f-4f7e-dd9d-e3b77094635e"
      },
      "execution_count": 536,
      "outputs": [
        {
          "output_type": "stream",
          "name": "stdout",
          "text": [
            "Year                 1985.000000\n",
            "Votes                 557.000000\n",
            "Duration              120.000000\n",
            "Genre_mean_rating       5.927778\n",
            "Director_encoded        6.781818\n",
            "Actor1_encoded          8.000000\n",
            "Actor2_encoded          6.700000\n",
            "Actor3_encoded          7.400000\n",
            "Name: 5747, dtype: float64\n"
          ]
        }
      ]
    },
    {
      "cell_type": "code",
      "source": [
        "# Predicting with RandomForestRegressor\n",
        "sample_data = {'Year': [1985], 'Votes': [557], 'Duration': [120], 'Genre_mean_rating': [5.927], 'Director_encoded': [6.781], 'Actor1_encoded': [8], 'Actor2_encoded': [6.7], 'Actor3_encoded': [7.4]}\n",
        "sample_df = pd.DataFrame(sample_data)\n",
        "\n",
        "# Predict the movie rating\n",
        "predicted_rating = r_f.predict(sample_df)\n",
        "print(\"\\nPredicted Rating:\", predicted_rating[0])\n",
        "\n",
        "test_row_index = y_test.index[y_test == y.loc[row_index]]\n",
        "print(f\"Actual rating: {y_test.loc[test_row_index[0]]:.2f}\")"
      ],
      "metadata": {
        "colab": {
          "base_uri": "https://localhost:8080/"
        },
        "id": "1kwU45ZfvTgn",
        "outputId": "eaa0c00d-d68f-492d-f7f8-39613f640663"
      },
      "execution_count": 537,
      "outputs": [
        {
          "output_type": "stream",
          "name": "stdout",
          "text": [
            "\n",
            "Predicted Rating: 7.443999999999991\n",
            "Actual rating: 7.40\n"
          ]
        }
      ]
    },
    {
      "cell_type": "code",
      "source": [
        "row_index = X[(X['Year'] == 1991) & (X['Votes'] == 17) & (X['Duration'] == 136)].index[0]\n",
        "print(X.loc[row_index])"
      ],
      "metadata": {
        "colab": {
          "base_uri": "https://localhost:8080/"
        },
        "outputId": "0da79c70-8f85-4b2c-e57f-b1cca5695ef7",
        "id": "wbaKM3bX3uJp"
      },
      "execution_count": 538,
      "outputs": [
        {
          "output_type": "stream",
          "name": "stdout",
          "text": [
            "Year                 1991.000000\n",
            "Votes                  17.000000\n",
            "Duration              136.000000\n",
            "Genre_mean_rating       6.266667\n",
            "Director_encoded        4.171429\n",
            "Actor1_encoded          4.915385\n",
            "Actor2_encoded          4.400000\n",
            "Actor3_encoded          4.600000\n",
            "Name: 9813, dtype: float64\n"
          ]
        }
      ]
    },
    {
      "cell_type": "code",
      "source": [
        "# Predicting with RandomForestRegressor\n",
        "sample_data = {'Year': [1991], 'Votes': [17], 'Duration': [136], 'Genre_mean_rating': [6.266], 'Director_encoded': [4.17], 'Actor1_encoded': [4.91], 'Actor2_encoded': [4.40], 'Actor3_encoded': [4.60]}\n",
        "sample_df = pd.DataFrame(sample_data)\n",
        "\n",
        "# Predict the movie rating\n",
        "predicted_rating = r_f.predict(sample_df)\n",
        "print(\"\\nPredicted Rating:\", predicted_rating[0])\n",
        "\n",
        "test_row_index = y_test.index[y_test == y.loc[row_index]]\n",
        "print(f\"Actual rating: {y_test.loc[test_row_index[0]]:.2f}\")"
      ],
      "metadata": {
        "colab": {
          "base_uri": "https://localhost:8080/"
        },
        "outputId": "44e0f1ab-4f5d-47d7-c3e2-1f3361f7cc01",
        "id": "PGbFQ9_03ZVE"
      },
      "execution_count": 539,
      "outputs": [
        {
          "output_type": "stream",
          "name": "stdout",
          "text": [
            "\n",
            "Predicted Rating: 4.340999999999995\n",
            "Actual rating: 4.40\n"
          ]
        }
      ]
    }
  ],
  "metadata": {
    "colab": {
      "provenance": []
    },
    "kernelspec": {
      "display_name": "Python 3",
      "name": "python3"
    },
    "language_info": {
      "name": "python"
    }
  },
  "nbformat": 4,
  "nbformat_minor": 0
}